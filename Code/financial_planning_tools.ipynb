{
 "cells": [
  {
   "cell_type": "markdown",
   "metadata": {},
   "source": [
    "# Financial Planning with APIs and Simulations\n",
    "\n",
    "In this Challenge, you’ll create two financial analysis tools by using a single Jupyter notebook:\n",
    "\n",
    "Part 1: A financial planner for emergencies. The members will be able to use this tool to visualize their current savings. The members can then determine if they have enough reserves for an emergency fund.\n",
    "\n",
    "Part 2: A financial planner for retirement. This tool will forecast the performance of their retirement portfolio in 30 years. To do this, the tool will make an Alpaca API call via the Alpaca SDK to get historical price data for use in Monte Carlo simulations.\n",
    "\n",
    "You’ll use the information from the Monte Carlo simulation to answer questions about the portfolio in your Jupyter notebook.\n",
    "\n"
   ]
  },
  {
   "cell_type": "code",
   "execution_count": 1,
   "metadata": {},
   "outputs": [],
   "source": [
    "# Import the required libraries and dependencies\n",
    "import os\n",
    "import requests\n",
    "import json\n",
    "import pandas as pd\n",
    "from dotenv import load_dotenv\n",
    "import alpaca_trade_api as tradeapi\n",
    "from MCForecastTools import MCSimulation\n",
    "\n",
    "%matplotlib inline"
   ]
  },
  {
   "cell_type": "code",
   "execution_count": 2,
   "metadata": {},
   "outputs": [
    {
     "data": {
      "text/plain": [
       "True"
      ]
     },
     "execution_count": 2,
     "metadata": {},
     "output_type": "execute_result"
    }
   ],
   "source": [
    "# Load the environment variables from the .env file\n",
    "#by calling the load_dotenv function\n",
    "load_dotenv()"
   ]
  },
  {
   "cell_type": "markdown",
   "metadata": {},
   "source": [
    "## Part 1: Create a Financial Planner for Emergencies"
   ]
  },
  {
   "cell_type": "markdown",
   "metadata": {},
   "source": [
    "### Evaluate the Cryptocurrency Wallet by Using the Requests Library\n",
    "\n",
    "In this section, you’ll determine the current value of a member’s cryptocurrency wallet. You’ll collect the current prices for the Bitcoin and Ethereum cryptocurrencies by using the Python Requests library. For the prototype, you’ll assume that the member holds the 1.2 Bitcoins (BTC) and 5.3 Ethereum coins (ETH). To do all this, complete the following steps:\n",
    "\n",
    "1. Create a variable named `monthly_income`, and set its value to `12000`.\n",
    "\n",
    "2. Use the Requests library to get the current price (in US dollars) of Bitcoin (BTC) and Ethereum (ETH) by using the API endpoints that the starter code supplies.\n",
    "\n",
    "3. Navigate the JSON response object to access the current price of each coin, and store each in a variable.\n",
    "\n",
    "    > **Hint** Note the specific identifier for each cryptocurrency in the API JSON response. The Bitcoin identifier is `1`, and the Ethereum identifier is `1027`.\n",
    "\n",
    "4. Calculate the value, in US dollars, of the current amount of each cryptocurrency and of the entire cryptocurrency wallet.\n",
    "\n"
   ]
  },
  {
   "cell_type": "code",
   "execution_count": 3,
   "metadata": {},
   "outputs": [],
   "source": [
    "# The current number of coins for each cryptocurrency asset held in the portfolio.\n",
    "btc_coins = 1.2\n",
    "eth_coins = 5.3"
   ]
  },
  {
   "cell_type": "markdown",
   "metadata": {},
   "source": [
    "#### Step 1: Create a variable named `monthly_income`, and set its value to `12000`."
   ]
  },
  {
   "cell_type": "code",
   "execution_count": 4,
   "metadata": {},
   "outputs": [],
   "source": [
    "# The monthly amount for the member's household income\n",
    "# YOUR CODE HERE\n",
    "monthly_income = 12000"
   ]
  },
  {
   "cell_type": "markdown",
   "metadata": {},
   "source": [
    "#### Review the endpoint URLs for the API calls to Free Crypto API in order to get the current pricing information for both BTC and ETH."
   ]
  },
  {
   "cell_type": "code",
   "execution_count": 5,
   "metadata": {},
   "outputs": [],
   "source": [
    "# The Free Crypto API Call endpoint URLs for the held cryptocurrency assets\n",
    "btc_url = \"https://api.alternative.me/v2/ticker/Bitcoin/?convert=USD\"\n",
    "eth_url = \"https://api.alternative.me/v2/ticker/Ethereum/?convert=USD\""
   ]
  },
  {
   "cell_type": "markdown",
   "metadata": {},
   "source": [
    "#### Step 2. Use the Requests library to get the current price (in US dollars) of Bitcoin (BTC) and Ethereum (ETH) by using the API endpoints that the starter code supplied."
   ]
  },
  {
   "cell_type": "code",
   "execution_count": 6,
   "metadata": {},
   "outputs": [
    {
     "name": "stdout",
     "output_type": "stream",
     "text": [
      "{\n",
      "   \"data\": {\n",
      "      \"1\": {\n",
      "         \"circulating_supply\": 18691175,\n",
      "         \"id\": 1,\n",
      "         \"last_updated\": 1619374309,\n",
      "         \"max_supply\": 21000000,\n",
      "         \"name\": \"Bitcoin\",\n",
      "         \"quotes\": {\n",
      "            \"USD\": {\n",
      "               \"market_cap\": 931017150428,\n",
      "               \"percent_change_1h\": -0.829960400168586,\n",
      "               \"percent_change_24h\": -0.469149783635662,\n",
      "               \"percent_change_7d\": -17.3557888771615,\n",
      "               \"percentage_change_1h\": -0.829960400168586,\n",
      "               \"percentage_change_24h\": -0.469149783635662,\n",
      "               \"percentage_change_7d\": -17.3557888771615,\n",
      "               \"price\": 49813.0,\n",
      "               \"volume_24h\": 40296587178\n",
      "            }\n",
      "         },\n",
      "         \"rank\": 1,\n",
      "         \"symbol\": \"BTC\",\n",
      "         \"total_supply\": 18691175,\n",
      "         \"website_slug\": \"bitcoin\"\n",
      "      }\n",
      "   },\n",
      "   \"metadata\": {\n",
      "      \"error\": null,\n",
      "      \"num_cryptocurrencies\": 1311,\n",
      "      \"timestamp\": 1619374309\n",
      "   }\n",
      "}\n"
     ]
    }
   ],
   "source": [
    "# Using the Python requests library, make an API call to access the current price of BTC\n",
    "btc_response = requests.get(btc_url).json()\n",
    "\n",
    "# Use the json.dumps function to review the response data from the API call\n",
    "# Use the indent and sort_keys parameters to make the response object readable\n",
    "print(json.dumps(btc_response, indent=3, sort_keys=True))\n"
   ]
  },
  {
   "cell_type": "code",
   "execution_count": 7,
   "metadata": {},
   "outputs": [
    {
     "name": "stdout",
     "output_type": "stream",
     "text": [
      "{\n",
      "   \"data\": {\n",
      "      \"1027\": {\n",
      "         \"circulating_supply\": 115616953,\n",
      "         \"id\": 1027,\n",
      "         \"last_updated\": 1619374357,\n",
      "         \"max_supply\": 0,\n",
      "         \"name\": \"Ethereum\",\n",
      "         \"quotes\": {\n",
      "            \"USD\": {\n",
      "               \"market_cap\": 268210337373,\n",
      "               \"percent_change_1h\": -1.11112864261382,\n",
      "               \"percent_change_24h\": 3.13085654335213,\n",
      "               \"percent_change_7d\": -1.14418075123609,\n",
      "               \"percentage_change_1h\": -1.11112864261382,\n",
      "               \"percentage_change_24h\": 3.13085654335213,\n",
      "               \"percentage_change_7d\": -1.14418075123609,\n",
      "               \"price\": 2318.43,\n",
      "               \"volume_24h\": 33359749023\n",
      "            }\n",
      "         },\n",
      "         \"rank\": 2,\n",
      "         \"symbol\": \"ETH\",\n",
      "         \"total_supply\": 115616953,\n",
      "         \"website_slug\": \"ethereum\"\n",
      "      }\n",
      "   },\n",
      "   \"metadata\": {\n",
      "      \"error\": null,\n",
      "      \"num_cryptocurrencies\": 1311,\n",
      "      \"timestamp\": 1619374357\n",
      "   }\n",
      "}\n"
     ]
    }
   ],
   "source": [
    "# Using the Python requests library, make an API call to access the current price ETH\n",
    "eth_response = requests.get(eth_url).json()\n",
    "\n",
    "# Use the json.dumps function to review the response data from the API call\n",
    "# Use the indent and sort_keys parameters to make the response object readable\n",
    "# YOUR CODE HERE\n",
    "print(json.dumps(eth_response, indent=3, sort_keys=True))"
   ]
  },
  {
   "cell_type": "markdown",
   "metadata": {},
   "source": [
    "#### Step 3: Navigate the JSON response object to access the current price of each coin, and store each in a variable."
   ]
  },
  {
   "cell_type": "code",
   "execution_count": 8,
   "metadata": {},
   "outputs": [
    {
     "name": "stdout",
     "output_type": "stream",
     "text": [
      "The current price of BTC is $49813.00.\n"
     ]
    }
   ],
   "source": [
    "# Navigate the BTC response object to access the current price of BTC\n",
    "btc_price = btc_response['data']['1']['quotes']['USD']['price']\n",
    "# Print the current price of BTC\n",
    "# YOUR CODE HERE\n",
    "print(f'The current price of BTC is ${btc_price:.2f}.')"
   ]
  },
  {
   "cell_type": "code",
   "execution_count": 9,
   "metadata": {},
   "outputs": [
    {
     "name": "stdout",
     "output_type": "stream",
     "text": [
      "The current price of ETH is $2318.43.\n"
     ]
    }
   ],
   "source": [
    "# Navigate the BTC response object to access the current price of ETH\n",
    "eth_price = eth_response['data']['1027']['quotes']['USD']['price']\n",
    "\n",
    "# Print the current price of ETH\n",
    "print(f'The current price of ETH is ${eth_price:.2f}.')\n"
   ]
  },
  {
   "cell_type": "markdown",
   "metadata": {},
   "source": [
    "### Step 4: Calculate the value, in US dollars, of the current amount of each cryptocurrency and of the entire cryptocurrency wallet."
   ]
  },
  {
   "cell_type": "code",
   "execution_count": 10,
   "metadata": {},
   "outputs": [
    {
     "name": "stdout",
     "output_type": "stream",
     "text": [
      "The current value of BTC position is $59775.60.\n"
     ]
    }
   ],
   "source": [
    "# Compute the current value of the BTC holding \n",
    "btc_value = btc_price * btc_coins\n",
    "\n",
    "# Print current value of your holding in BTC\n",
    "print(f'The current value of BTC position is ${btc_value:.2f}.')"
   ]
  },
  {
   "cell_type": "code",
   "execution_count": 11,
   "metadata": {},
   "outputs": [
    {
     "name": "stdout",
     "output_type": "stream",
     "text": [
      "The current value of ETH position is $12287.68.\n"
     ]
    }
   ],
   "source": [
    "# Compute the current value of the ETH holding \n",
    "eth_value = eth_price * eth_coins\n",
    "\n",
    "# Print current value of your holding in ETH\n",
    "print(f'The current value of ETH position is ${eth_value:.2f}.')"
   ]
  },
  {
   "cell_type": "code",
   "execution_count": 12,
   "metadata": {},
   "outputs": [
    {
     "name": "stdout",
     "output_type": "stream",
     "text": [
      "The current cryptocurrency wallet balance is $72063.28.\n"
     ]
    }
   ],
   "source": [
    "# Compute the total value of the cryptocurrency wallet\n",
    "# Add the value of the BTC holding to the value of the ETH holding\n",
    "total_crypto_wallet = btc_value + eth_value\n",
    "total_crypto_wallet = round(total_crypto_wallet, 2)\n",
    "\n",
    "# Print current cryptocurrency wallet balance\n",
    "print(f'The current cryptocurrency wallet balance is ${total_crypto_wallet}.')\n"
   ]
  },
  {
   "cell_type": "markdown",
   "metadata": {},
   "source": [
    "### Evaluate the Stock and Bond Holdings by Using the Alpaca SDK\n",
    "\n",
    "In this section, you’ll determine the current value of a member’s stock and bond holdings. You’ll make an API call to Alpaca via the Alpaca SDK to get the current closing prices of the SPDR S&P 500 ETF Trust (ticker: SPY) and of the iShares Core US Aggregate Bond ETF (ticker: AGG). For the prototype, assume that the member holds 110 shares of SPY, which represents the stock portion of their portfolio, and 200 shares of AGG, which represents the bond portion. To do all this, complete the following steps:\n",
    "\n",
    "1. In the `Starter_Code` folder, create an environment file (`.env`) to store the values of your Alpaca API key and Alpaca secret key.\n",
    "\n",
    "2. Set the variables for the Alpaca API and secret keys. Using the Alpaca SDK, create the Alpaca `tradeapi.REST` object. In this object, include the parameters for the Alpaca API key, the secret key, and the version number.\n",
    "\n",
    "3. Set the following parameters for the Alpaca API call:\n",
    "\n",
    "    - `tickers`: Use the tickers for the member’s stock and bond holdings.\n",
    "\n",
    "    - `timeframe`: Use a time frame of one day.\n",
    "\n",
    "    - `start_date` and `end_date`: Use the same date for these parameters, and format them with the date of the previous weekday (or `2020-08-07`). This is because you want the one closing price for the most-recent trading day.\n",
    "\n",
    "4. Get the current closing prices for `SPY` and `AGG` by using the Alpaca `get_barset` function. Format the response as a Pandas DataFrame by including the `df` property at the end of the `get_barset` function.\n",
    "\n",
    "5. Navigating the Alpaca response DataFrame, select the `SPY` and `AGG` closing prices, and store them as variables.\n",
    "\n",
    "6. Calculate the value, in US dollars, of the current amount of shares in each of the stock and bond portions of the portfolio, and print the results.\n"
   ]
  },
  {
   "cell_type": "markdown",
   "metadata": {},
   "source": [
    "#### Review the total number of shares held in both (SPY) and (AGG)."
   ]
  },
  {
   "cell_type": "code",
   "execution_count": 13,
   "metadata": {},
   "outputs": [],
   "source": [
    "# Current amount of shares held in both the stock (SPY) and bond (AGG) portion of the portfolio.\n",
    "spy_shares = 110\n",
    "agg_shares = 200\n"
   ]
  },
  {
   "cell_type": "markdown",
   "metadata": {},
   "source": [
    "#### Step 1: In the `Starter_Code` folder, create an environment file (`.env`) to store the values of your Alpaca API key and Alpaca secret key."
   ]
  },
  {
   "cell_type": "markdown",
   "metadata": {},
   "source": [
    "#### Step 2: Set the variables for the Alpaca API and secret keys. Using the Alpaca SDK, create the Alpaca `tradeapi.REST` object. In this object, include the parameters for the Alpaca API key, the secret key, and the version number."
   ]
  },
  {
   "cell_type": "code",
   "execution_count": 14,
   "metadata": {},
   "outputs": [],
   "source": [
    "# Set the variables for the Alpaca API and secret keys\n",
    "alpaca_api_key = os.getenv(\"ALPACA_API_KEY\")\n",
    "alpaca_secret_key = os.getenv(\"ALPACA_SECRET_KEY\")\n",
    "\n",
    "# Create the Alpaca tradeapi.REST object\n",
    "alpaca = tradeapi.REST(\n",
    "    alpaca_api_key,\n",
    "    alpaca_secret_key,\n",
    "    api_version=\"v2\")\n"
   ]
  },
  {
   "cell_type": "markdown",
   "metadata": {},
   "source": [
    "#### Step 3: Set the following parameters for the Alpaca API call:\n",
    "\n",
    "- `tickers`: Use the tickers for the member’s stock and bond holdings.\n",
    "\n",
    "- `timeframe`: Use a time frame of one day.\n",
    "\n",
    "- `start_date` and `end_date`: Use the same date for these parameters, and format them with the date of the previous weekday (or `2020-08-07`). This is because you want the one closing price for the most-recent trading day.\n"
   ]
  },
  {
   "cell_type": "code",
   "execution_count": 15,
   "metadata": {},
   "outputs": [],
   "source": [
    "# Set the tickers for both the bond and stock portion of the portfolio\n",
    "tickers = ['SPY','AGG']\n",
    "\n",
    "# Set timeframe to 1D \n",
    "timeframe = '1D'\n",
    "\n",
    "# Format current date as ISO format\n",
    "# Set both the start and end date at the date of your prior weekday \n",
    "# This will give you the closing price of the previous trading day\n",
    "# Alternatively you can use a start and end date of 2020-08-07\n",
    "start_date = pd.Timestamp(\"2021-04-23\", tz=\"America/New_York\").isoformat()\n",
    "end_date = pd.Timestamp(\"2021-04-23\", tz=\"America/New_York\").isoformat()\n"
   ]
  },
  {
   "cell_type": "markdown",
   "metadata": {},
   "source": [
    "#### Step 4: Get the current closing prices for `SPY` and `AGG` by using the Alpaca `get_barset` function. Format the response as a Pandas DataFrame by including the `df` property at the end of the `get_barset` function."
   ]
  },
  {
   "cell_type": "code",
   "execution_count": 16,
   "metadata": {},
   "outputs": [
    {
     "data": {
      "text/html": [
       "<div>\n",
       "<style scoped>\n",
       "    .dataframe tbody tr th:only-of-type {\n",
       "        vertical-align: middle;\n",
       "    }\n",
       "\n",
       "    .dataframe tbody tr th {\n",
       "        vertical-align: top;\n",
       "    }\n",
       "\n",
       "    .dataframe thead tr th {\n",
       "        text-align: left;\n",
       "    }\n",
       "\n",
       "    .dataframe thead tr:last-of-type th {\n",
       "        text-align: right;\n",
       "    }\n",
       "</style>\n",
       "<table border=\"1\" class=\"dataframe\">\n",
       "  <thead>\n",
       "    <tr>\n",
       "      <th></th>\n",
       "      <th colspan=\"5\" halign=\"left\">AGG</th>\n",
       "      <th colspan=\"5\" halign=\"left\">SPY</th>\n",
       "    </tr>\n",
       "    <tr>\n",
       "      <th></th>\n",
       "      <th>open</th>\n",
       "      <th>high</th>\n",
       "      <th>low</th>\n",
       "      <th>close</th>\n",
       "      <th>volume</th>\n",
       "      <th>open</th>\n",
       "      <th>high</th>\n",
       "      <th>low</th>\n",
       "      <th>close</th>\n",
       "      <th>volume</th>\n",
       "    </tr>\n",
       "    <tr>\n",
       "      <th>time</th>\n",
       "      <th></th>\n",
       "      <th></th>\n",
       "      <th></th>\n",
       "      <th></th>\n",
       "      <th></th>\n",
       "      <th></th>\n",
       "      <th></th>\n",
       "      <th></th>\n",
       "      <th></th>\n",
       "      <th></th>\n",
       "    </tr>\n",
       "  </thead>\n",
       "  <tbody>\n",
       "    <tr>\n",
       "      <th>2021-04-23 00:00:00-04:00</th>\n",
       "      <td>114.81</td>\n",
       "      <td>115.086</td>\n",
       "      <td>114.6415</td>\n",
       "      <td>114.75</td>\n",
       "      <td>3506457</td>\n",
       "      <td>412.87</td>\n",
       "      <td>418.25</td>\n",
       "      <td>412.79</td>\n",
       "      <td>416.72</td>\n",
       "      <td>62184753</td>\n",
       "    </tr>\n",
       "  </tbody>\n",
       "</table>\n",
       "</div>"
      ],
      "text/plain": [
       "                              AGG                                         SPY  \\\n",
       "                             open     high       low   close   volume    open   \n",
       "time                                                                            \n",
       "2021-04-23 00:00:00-04:00  114.81  115.086  114.6415  114.75  3506457  412.87   \n",
       "\n",
       "                                                             \n",
       "                             high     low   close    volume  \n",
       "time                                                         \n",
       "2021-04-23 00:00:00-04:00  418.25  412.79  416.72  62184753  "
      ]
     },
     "execution_count": 16,
     "metadata": {},
     "output_type": "execute_result"
    }
   ],
   "source": [
    "# Use the Alpaca get_barset function to get current closing prices the portfolio\n",
    "# Be sure to set the `df` property after the function to format the response object as a DataFrame\n",
    "portfolio = alpaca.get_barset(\n",
    "    tickers,\n",
    "    timeframe,\n",
    "    start = start_date,\n",
    "    end = end_date\n",
    ").df\n",
    "\n",
    "# Review the first 5 rows of the Alpaca DataFrame\n",
    "portfolio.head()\n"
   ]
  },
  {
   "cell_type": "markdown",
   "metadata": {},
   "source": [
    "#### Step 5: Navigating the Alpaca response DataFrame, select the `SPY` and `AGG` closing prices, and store them as variables."
   ]
  },
  {
   "cell_type": "code",
   "execution_count": 17,
   "metadata": {},
   "outputs": [
    {
     "data": {
      "text/plain": [
       "114.75"
      ]
     },
     "execution_count": 17,
     "metadata": {},
     "output_type": "execute_result"
    }
   ],
   "source": [
    "# Access the closing price for AGG from the Alpaca DataFrame\n",
    "# Converting the value to a floating point number\n",
    "agg_close_price = float(portfolio['AGG']['close'])\n",
    "\n",
    "# Print the AGG closing price\n",
    "# YOUR CODE HERE\n",
    "agg_close_price"
   ]
  },
  {
   "cell_type": "code",
   "execution_count": 18,
   "metadata": {},
   "outputs": [
    {
     "data": {
      "text/plain": [
       "416.72"
      ]
     },
     "execution_count": 18,
     "metadata": {},
     "output_type": "execute_result"
    }
   ],
   "source": [
    "# Access the closing price for SPY from the Alpaca DataFrame\n",
    "# Converting the value to a floating point number\n",
    "spy_close_price = float(portfolio['SPY']['close'])\n",
    "\n",
    "# Print the SPY closing price\n",
    "spy_close_price\n"
   ]
  },
  {
   "cell_type": "markdown",
   "metadata": {},
   "source": [
    "#### Step 6: Calculate the value, in US dollars, of the current amount of shares in each of the stock and bond portions of the portfolio, and print the results."
   ]
  },
  {
   "cell_type": "code",
   "execution_count": 19,
   "metadata": {},
   "outputs": [
    {
     "name": "stdout",
     "output_type": "stream",
     "text": [
      "The current value of the bond portfolio is $22950.00.\n"
     ]
    }
   ],
   "source": [
    "# Calculate the current value of the bond portion of the portfolio\n",
    "agg_value = agg_close_price * agg_shares\n",
    "\n",
    "# Print the current value of the bond portfolio\n",
    "print(f'The current value of the bond portfolio is ${agg_value:.2f}.')\n"
   ]
  },
  {
   "cell_type": "code",
   "execution_count": 20,
   "metadata": {},
   "outputs": [
    {
     "name": "stdout",
     "output_type": "stream",
     "text": [
      "The current value of the stock portfolio is $45839.20.\n"
     ]
    }
   ],
   "source": [
    "# Calculate the current value of the stock portion of the portfolio\n",
    "spy_value = spy_close_price * spy_shares\n",
    "\n",
    "# Print the current value of the stock portfolio\n",
    "print(f'The current value of the stock portfolio is ${spy_value:.2f}.')\n"
   ]
  },
  {
   "cell_type": "code",
   "execution_count": 21,
   "metadata": {},
   "outputs": [
    {
     "name": "stdout",
     "output_type": "stream",
     "text": [
      "The current balance of the stock and bond portion of the portfolio is $68789.2.\n"
     ]
    }
   ],
   "source": [
    "# Calculate the total value of the stock and bond portion of the portfolio\n",
    "total_stocks_bonds = agg_value + spy_value\n",
    "total_stocks_bonds = round(total_stocks_bonds, 2)\n",
    "\n",
    "# Print the current balance of the stock and bond portion of the portfolio\n",
    "\n",
    "print(f'The current balance of the stock and bond portion of the portfolio is ${total_stocks_bonds}.')\n"
   ]
  },
  {
   "cell_type": "code",
   "execution_count": 22,
   "metadata": {},
   "outputs": [
    {
     "name": "stdout",
     "output_type": "stream",
     "text": [
      "The current balance of the total portfolio is $140852.48.\n"
     ]
    }
   ],
   "source": [
    "# Calculate the total value of the member's entire savings portfolio\n",
    "# Add the value of the cryptocurrency walled to the value of the total stocks and bonds\n",
    "total_portfolio = total_crypto_wallet + total_stocks_bonds\n",
    "total_portfolio = round(total_portfolio, 2)\n",
    "\n",
    "# Print current cryptocurrency wallet balance\n",
    "\n",
    "print(f'The current balance of the total portfolio is ${total_portfolio}.')"
   ]
  },
  {
   "cell_type": "markdown",
   "metadata": {},
   "source": [
    "### Evaluate the Emergency Fund\n",
    "\n",
    "In this section, you’ll use the valuations for the cryptocurrency wallet and for the stock and bond portions of the portfolio to determine if the credit union member has enough savings to build an emergency fund into their financial plan. To do this, complete the following steps:\n",
    "\n",
    "1. Create a Python list named `savings_data` that has two elements. The first element contains the total value of the cryptocurrency wallet. The second element contains the total value of the stock and bond portions of the portfolio.\n",
    "\n",
    "2. Use the `savings_data` list to create a Pandas DataFrame named `savings_df`, and then display this DataFrame. The function to create the DataFrame should take the following three parameters:\n",
    "\n",
    "    - `savings_data`: Use the list that you just created.\n",
    "\n",
    "    - `columns`: Set this parameter equal to a Python list with a single value called `amount`.\n",
    "\n",
    "    - `index`: Set this parameter equal to a Python list with the values of `crypto` and `stock/bond`.\n",
    "\n",
    "3. Use the `savings_df` DataFrame to plot a pie chart that visualizes the composition of the member’s portfolio. The y-axis of the pie chart uses `amount`. Be sure to add a title.\n",
    "\n",
    "4. Using Python, determine if the current portfolio has enough to create an emergency fund as part of the member’s financial plan. Ideally, an emergency fund should equal to three times the member’s monthly income. To do this, implement the following steps:\n",
    "\n",
    "    1. Create a variable named `emergency_fund_value`, and set it equal to three times the value of the member’s `monthly_income` of $12000. (You set this earlier in Part 1).\n",
    "\n",
    "    2. Create a series of three if statements to determine if the member’s total portfolio is large enough to fund the emergency portfolio:\n",
    "\n",
    "        1. If the total portfolio value is greater than the emergency fund value, display a message congratulating the member for having enough money in this fund.\n",
    "\n",
    "        2. Else if the total portfolio value is equal to the emergency fund value, display a message congratulating the member on reaching this important financial goal.\n",
    "\n",
    "        3. Else the total portfolio is less than the emergency fund value, so display a message showing how many dollars away the member is from reaching the goal. (Subtract the total portfolio value from the emergency fund value.)\n"
   ]
  },
  {
   "cell_type": "markdown",
   "metadata": {},
   "source": [
    "#### Step 1: Create a Python list named `savings_data` that has two elements. The first element contains the total value of the cryptocurrency wallet. The second element contains the total value of the stock and bond portions of the portfolio."
   ]
  },
  {
   "cell_type": "code",
   "execution_count": 23,
   "metadata": {},
   "outputs": [
    {
     "data": {
      "text/plain": [
       "[['Crypto', 72063.28], ['Stock/Bond', 68789.2]]"
      ]
     },
     "execution_count": 23,
     "metadata": {},
     "output_type": "execute_result"
    }
   ],
   "source": [
    "# Consolidate financial assets data into a Python list\n",
    "savings_data = [['Crypto',total_crypto_wallet],['Stock/Bond',total_stocks_bonds]]\n",
    "\n",
    "# Review the Python list savings_data\n",
    "savings_data\n",
    "    "
   ]
  },
  {
   "cell_type": "raw",
   "metadata": {},
   "source": [
    "Step 2: Use the `savings_data` list to create a Pandas DataFrame named `savings_df`, and then display this DataFrame. The function to create the DataFrame should take the following three parameters:\n",
    "\n",
    "- `savings_data`: Use the list that you just created.\n",
    "\n",
    "- `columns`: Set this parameter equal to a Python list with a single value called `amount`.\n",
    "\n",
    "- `index`: Set this parameter equal to a Python list with the values of `crypto` and `stock/bond`.\n"
   ]
  },
  {
   "cell_type": "code",
   "execution_count": 24,
   "metadata": {},
   "outputs": [
    {
     "data": {
      "text/html": [
       "<div>\n",
       "<style scoped>\n",
       "    .dataframe tbody tr th:only-of-type {\n",
       "        vertical-align: middle;\n",
       "    }\n",
       "\n",
       "    .dataframe tbody tr th {\n",
       "        vertical-align: top;\n",
       "    }\n",
       "\n",
       "    .dataframe thead th {\n",
       "        text-align: right;\n",
       "    }\n",
       "</style>\n",
       "<table border=\"1\" class=\"dataframe\">\n",
       "  <thead>\n",
       "    <tr style=\"text-align: right;\">\n",
       "      <th></th>\n",
       "      <th>Amount</th>\n",
       "    </tr>\n",
       "    <tr>\n",
       "      <th>Component</th>\n",
       "      <th></th>\n",
       "    </tr>\n",
       "  </thead>\n",
       "  <tbody>\n",
       "    <tr>\n",
       "      <th>Crypto</th>\n",
       "      <td>72063.28</td>\n",
       "    </tr>\n",
       "    <tr>\n",
       "      <th>Stock/Bond</th>\n",
       "      <td>68789.20</td>\n",
       "    </tr>\n",
       "  </tbody>\n",
       "</table>\n",
       "</div>"
      ],
      "text/plain": [
       "              Amount\n",
       "Component           \n",
       "Crypto      72063.28\n",
       "Stock/Bond  68789.20"
      ]
     },
     "execution_count": 24,
     "metadata": {},
     "output_type": "execute_result"
    }
   ],
   "source": [
    "# Create a Pandas DataFrame called savings_df \n",
    "savings_df = pd.DataFrame(savings_data)\n",
    "columns = ['Component','Amount']\n",
    "savings_df.columns = columns\n",
    "savings_df = savings_df.set_index('Component')\n",
    "\n",
    "# Display the savings_df DataFrame\n",
    "savings_df"
   ]
  },
  {
   "cell_type": "markdown",
   "metadata": {},
   "source": [
    "#### Step 3: Use the `savings_df` DataFrame to plot a pie chart that visualizes the composition of the member’s portfolio. The y-axis of the pie chart uses `amount`. Be sure to add a title."
   ]
  },
  {
   "cell_type": "code",
   "execution_count": 25,
   "metadata": {},
   "outputs": [
    {
     "data": {
      "text/plain": [
       "array([<AxesSubplot:ylabel='Amount'>], dtype=object)"
      ]
     },
     "execution_count": 25,
     "metadata": {},
     "output_type": "execute_result"
    },
    {
     "data": {
      "image/png": "[encoded data removed]",
      "text/plain": [
       "<Figure size 504x504 with 1 Axes>"
      ]
     },
     "metadata": {},
     "output_type": "display_data"
    }
   ],
   "source": [
    "# Plot the total value of the member's portfolio (crypto and stock/bond) in a pie chart\n",
    "\n",
    "savings_df.plot.pie(subplots=True, title='Total Portfolio Breakdown', autopct='%1.1f%%', figsize=(7,7))"
   ]
  },
  {
   "cell_type": "markdown",
   "metadata": {},
   "source": [
    "#### Step 4: Using Python, determine if the current portfolio has enough to create an emergency fund as part of the member’s financial plan. Ideally, an emergency fund should equal to three times the member’s monthly income. To do this, implement the following steps:\n",
    "\n",
    "Step 1. Create a variable named `emergency_fund_value`, and set it equal to three times the value of the member’s `monthly_income` of 12000. (You set this earlier in Part 1).\n",
    "\n",
    "Step 2. Create a series of three if statements to determine if the member’s total portfolio is large enough to fund the emergency portfolio:\n",
    "\n",
    "* If the total portfolio value is greater than the emergency fund value, display a message congratulating the member for having enough money in this fund.\n",
    "\n",
    "* Else if the total portfolio value is equal to the emergency fund value, display a message congratulating the member on reaching this important financial goal.\n",
    "\n",
    "* Else the total portfolio is less than the emergency fund value, so display a message showing how many dollars away the member is from reaching the goal. (Subtract the total portfolio value from the emergency fund value.)\n"
   ]
  },
  {
   "cell_type": "markdown",
   "metadata": {},
   "source": [
    "##### Step 4-1: Create a variable named `emergency_fund_value`, and set it equal to three times the value of the member’s `monthly_income` of 12000. (You set this earlier in Part 1)."
   ]
  },
  {
   "cell_type": "code",
   "execution_count": 26,
   "metadata": {},
   "outputs": [],
   "source": [
    "# Create a variable named emergency_fund_value\n",
    "emergency_fund_value = monthly_income * 3\n"
   ]
  },
  {
   "cell_type": "markdown",
   "metadata": {},
   "source": [
    "##### Step 4-2: Create a series of three if statements to determine if the member’s total portfolio is large enough to fund the emergency portfolio:\n",
    "\n",
    "* If the total portfolio value is greater than the emergency fund value, display a message congratulating the member for having enough money in this fund.\n",
    "\n",
    "* Else if the total portfolio value is equal to the emergency fund value, display a message congratulating the member on reaching this important financial goal.\n",
    "\n",
    "* Else the total portfolio is less than the emergency fund value, so display a message showing how many dollars away the member is from reaching the goal. (Subtract the total portfolio value from the emergency fund value.)"
   ]
  },
  {
   "cell_type": "code",
   "execution_count": 27,
   "metadata": {},
   "outputs": [
    {
     "name": "stdout",
     "output_type": "stream",
     "text": [
      "Congratulations, you have sufficient funding for emergencies!\n"
     ]
    }
   ],
   "source": [
    "# Evaluate the possibility of creating an emergency fund with 3 conditions:\n",
    "shortage = emergency_fund_value - total_portfolio\n",
    "if shortage < 0:\n",
    "    print(f'Congratulations, you have sufficient funding for emergencies!')\n",
    "elif shortage == 0:\n",
    "    print(f'Congratulations, you have reached an important milestone where you can start to save for emergency funding!')\n",
    "else:\n",
    "    print(f'You are just ${shortage:.0f} away from starting to save for emergency funding, keep going!')\n"
   ]
  },
  {
   "cell_type": "markdown",
   "metadata": {},
   "source": [
    "## Part 2: Create a Financial Planner for Retirement"
   ]
  },
  {
   "cell_type": "markdown",
   "metadata": {},
   "source": [
    "### Create the Monte Carlo Simulation\n",
    "\n",
    "In this section, you’ll use the MCForecastTools library to create a Monte Carlo simulation for the member’s savings portfolio. To do this, complete the following steps:\n",
    "\n",
    "1. Make an API call via the Alpaca SDK to get 10 years of historical closing prices for a traditional 60/40 portfolio split: 60% stocks (SPY) and 40% bonds (AGG).\n",
    "\n",
    "2. Run a Monte Carlo simulation of 500 samples and 30 years for the 60/40 portfolio, and then plot the results.The following image shows the overlay line plot resulting from a simulation with these characteristics. However, because a random number generator is used to run each live Monte Carlo simulation, your image will differ slightly from this exact image:\n",
    "\n",
    "![A screenshot depicts the resulting plot.](Images/5-4-monte-carlo-line-plot.png)\n",
    "\n",
    "3. Plot the probability distribution of the Monte Carlo simulation. Plot the probability distribution of the Monte Carlo simulation. The following image shows the histogram plot resulting from a simulation with these characteristics. However, because a random number generator is used to run each live Monte Carlo simulation, your image will differ slightly from this exact image:\n",
    "\n",
    "![A screenshot depicts the histogram plot.](Images/5-4-monte-carlo-histogram.png)\n",
    "\n",
    "4. Generate the summary statistics for the Monte Carlo simulation.\n",
    "\n"
   ]
  },
  {
   "cell_type": "markdown",
   "metadata": {},
   "source": [
    "#### Step 1: Make an API call via the Alpaca SDK to get 10 years of historical closing prices for a traditional 60/40 portfolio split: 60% stocks (SPY) and 40% bonds (AGG)."
   ]
  },
  {
   "cell_type": "code",
   "execution_count": 28,
   "metadata": {},
   "outputs": [],
   "source": [
    "# Set start and end dates of 10 years back from your current date\n",
    "# Alternatively, you can use an end date of 2020-08-07 and work 10 years back from that date \n",
    "sdk = tradeapi.REST(\n",
    "     alpaca_api_key,\n",
    "     alpaca_secret_key,\n",
    "     api_version=\"v2\")\n",
    "\n",
    "start_date = pd.Timestamp(\"2011-04-24\", tz=\"America/New_York\").isoformat() \n",
    "\n",
    "end_date = pd.Timestamp(\"2021-04-23\", tz=\"America/New_York\").isoformat()\n"
   ]
  },
  {
   "cell_type": "code",
   "execution_count": 29,
   "metadata": {},
   "outputs": [
    {
     "data": {
      "text/html": [
       "<div>\n",
       "<style scoped>\n",
       "    .dataframe tbody tr th:only-of-type {\n",
       "        vertical-align: middle;\n",
       "    }\n",
       "\n",
       "    .dataframe tbody tr th {\n",
       "        vertical-align: top;\n",
       "    }\n",
       "\n",
       "    .dataframe thead tr th {\n",
       "        text-align: left;\n",
       "    }\n",
       "\n",
       "    .dataframe thead tr:last-of-type th {\n",
       "        text-align: right;\n",
       "    }\n",
       "</style>\n",
       "<table border=\"1\" class=\"dataframe\">\n",
       "  <thead>\n",
       "    <tr>\n",
       "      <th></th>\n",
       "      <th colspan=\"5\" halign=\"left\">AGG</th>\n",
       "      <th colspan=\"5\" halign=\"left\">SPY</th>\n",
       "    </tr>\n",
       "    <tr>\n",
       "      <th></th>\n",
       "      <th>open</th>\n",
       "      <th>high</th>\n",
       "      <th>low</th>\n",
       "      <th>close</th>\n",
       "      <th>volume</th>\n",
       "      <th>open</th>\n",
       "      <th>high</th>\n",
       "      <th>low</th>\n",
       "      <th>close</th>\n",
       "      <th>volume</th>\n",
       "    </tr>\n",
       "    <tr>\n",
       "      <th>time</th>\n",
       "      <th></th>\n",
       "      <th></th>\n",
       "      <th></th>\n",
       "      <th></th>\n",
       "      <th></th>\n",
       "      <th></th>\n",
       "      <th></th>\n",
       "      <th></th>\n",
       "      <th></th>\n",
       "      <th></th>\n",
       "    </tr>\n",
       "  </thead>\n",
       "  <tbody>\n",
       "    <tr>\n",
       "      <th>2020-11-30 00:00:00-05:00</th>\n",
       "      <td>118.32</td>\n",
       "      <td>118.45</td>\n",
       "      <td>118.2500</td>\n",
       "      <td>118.400</td>\n",
       "      <td>5231566</td>\n",
       "      <td>362.83</td>\n",
       "      <td>363.12</td>\n",
       "      <td>359.17</td>\n",
       "      <td>362.0000</td>\n",
       "      <td>67154075</td>\n",
       "    </tr>\n",
       "    <tr>\n",
       "      <th>2020-12-01 00:00:00-05:00</th>\n",
       "      <td>118.03</td>\n",
       "      <td>118.10</td>\n",
       "      <td>117.7300</td>\n",
       "      <td>117.840</td>\n",
       "      <td>4308362</td>\n",
       "      <td>365.57</td>\n",
       "      <td>367.68</td>\n",
       "      <td>364.93</td>\n",
       "      <td>365.9700</td>\n",
       "      <td>64527332</td>\n",
       "    </tr>\n",
       "    <tr>\n",
       "      <th>2020-12-02 00:00:00-05:00</th>\n",
       "      <td>117.81</td>\n",
       "      <td>117.81</td>\n",
       "      <td>117.5400</td>\n",
       "      <td>117.705</td>\n",
       "      <td>5554915</td>\n",
       "      <td>364.82</td>\n",
       "      <td>366.96</td>\n",
       "      <td>364.20</td>\n",
       "      <td>366.7599</td>\n",
       "      <td>37323404</td>\n",
       "    </tr>\n",
       "    <tr>\n",
       "      <th>2020-12-03 00:00:00-05:00</th>\n",
       "      <td>117.92</td>\n",
       "      <td>117.98</td>\n",
       "      <td>117.7650</td>\n",
       "      <td>117.910</td>\n",
       "      <td>5210910</td>\n",
       "      <td>366.68</td>\n",
       "      <td>368.19</td>\n",
       "      <td>365.50</td>\n",
       "      <td>366.6698</td>\n",
       "      <td>52905586</td>\n",
       "    </tr>\n",
       "    <tr>\n",
       "      <th>2020-12-04 00:00:00-05:00</th>\n",
       "      <td>117.90</td>\n",
       "      <td>117.90</td>\n",
       "      <td>117.5133</td>\n",
       "      <td>117.580</td>\n",
       "      <td>4821820</td>\n",
       "      <td>367.32</td>\n",
       "      <td>369.85</td>\n",
       "      <td>367.22</td>\n",
       "      <td>369.8300</td>\n",
       "      <td>40264568</td>\n",
       "    </tr>\n",
       "  </tbody>\n",
       "</table>\n",
       "</div>"
      ],
      "text/plain": [
       "                              AGG                                         SPY  \\\n",
       "                             open    high       low    close   volume    open   \n",
       "time                                                                            \n",
       "2020-11-30 00:00:00-05:00  118.32  118.45  118.2500  118.400  5231566  362.83   \n",
       "2020-12-01 00:00:00-05:00  118.03  118.10  117.7300  117.840  4308362  365.57   \n",
       "2020-12-02 00:00:00-05:00  117.81  117.81  117.5400  117.705  5554915  364.82   \n",
       "2020-12-03 00:00:00-05:00  117.92  117.98  117.7650  117.910  5210910  366.68   \n",
       "2020-12-04 00:00:00-05:00  117.90  117.90  117.5133  117.580  4821820  367.32   \n",
       "\n",
       "                                                               \n",
       "                             high     low     close    volume  \n",
       "time                                                           \n",
       "2020-11-30 00:00:00-05:00  363.12  359.17  362.0000  67154075  \n",
       "2020-12-01 00:00:00-05:00  367.68  364.93  365.9700  64527332  \n",
       "2020-12-02 00:00:00-05:00  366.96  364.20  366.7599  37323404  \n",
       "2020-12-03 00:00:00-05:00  368.19  365.50  366.6698  52905586  \n",
       "2020-12-04 00:00:00-05:00  369.85  367.22  369.8300  40264568  "
      ]
     },
     "metadata": {},
     "output_type": "display_data"
    },
    {
     "data": {
      "text/html": [
       "<div>\n",
       "<style scoped>\n",
       "    .dataframe tbody tr th:only-of-type {\n",
       "        vertical-align: middle;\n",
       "    }\n",
       "\n",
       "    .dataframe tbody tr th {\n",
       "        vertical-align: top;\n",
       "    }\n",
       "\n",
       "    .dataframe thead tr th {\n",
       "        text-align: left;\n",
       "    }\n",
       "\n",
       "    .dataframe thead tr:last-of-type th {\n",
       "        text-align: right;\n",
       "    }\n",
       "</style>\n",
       "<table border=\"1\" class=\"dataframe\">\n",
       "  <thead>\n",
       "    <tr>\n",
       "      <th></th>\n",
       "      <th colspan=\"5\" halign=\"left\">AGG</th>\n",
       "      <th colspan=\"5\" halign=\"left\">SPY</th>\n",
       "    </tr>\n",
       "    <tr>\n",
       "      <th></th>\n",
       "      <th>open</th>\n",
       "      <th>high</th>\n",
       "      <th>low</th>\n",
       "      <th>close</th>\n",
       "      <th>volume</th>\n",
       "      <th>open</th>\n",
       "      <th>high</th>\n",
       "      <th>low</th>\n",
       "      <th>close</th>\n",
       "      <th>volume</th>\n",
       "    </tr>\n",
       "    <tr>\n",
       "      <th>time</th>\n",
       "      <th></th>\n",
       "      <th></th>\n",
       "      <th></th>\n",
       "      <th></th>\n",
       "      <th></th>\n",
       "      <th></th>\n",
       "      <th></th>\n",
       "      <th></th>\n",
       "      <th></th>\n",
       "      <th></th>\n",
       "    </tr>\n",
       "  </thead>\n",
       "  <tbody>\n",
       "    <tr>\n",
       "      <th>2021-04-19 00:00:00-04:00</th>\n",
       "      <td>114.00</td>\n",
       "      <td>114.500</td>\n",
       "      <td>114.0000</td>\n",
       "      <td>114.44</td>\n",
       "      <td>4820664</td>\n",
       "      <td>416.26</td>\n",
       "      <td>416.7400</td>\n",
       "      <td>413.79</td>\n",
       "      <td>415.24</td>\n",
       "      <td>66226327</td>\n",
       "    </tr>\n",
       "    <tr>\n",
       "      <th>2021-04-20 00:00:00-04:00</th>\n",
       "      <td>114.42</td>\n",
       "      <td>114.670</td>\n",
       "      <td>114.3900</td>\n",
       "      <td>114.62</td>\n",
       "      <td>3674209</td>\n",
       "      <td>413.91</td>\n",
       "      <td>415.0859</td>\n",
       "      <td>410.59</td>\n",
       "      <td>412.22</td>\n",
       "      <td>69715050</td>\n",
       "    </tr>\n",
       "    <tr>\n",
       "      <th>2021-04-21 00:00:00-04:00</th>\n",
       "      <td>114.60</td>\n",
       "      <td>114.740</td>\n",
       "      <td>114.5300</td>\n",
       "      <td>114.74</td>\n",
       "      <td>5250384</td>\n",
       "      <td>411.51</td>\n",
       "      <td>416.2900</td>\n",
       "      <td>411.36</td>\n",
       "      <td>416.08</td>\n",
       "      <td>54772634</td>\n",
       "    </tr>\n",
       "    <tr>\n",
       "      <th>2021-04-22 00:00:00-04:00</th>\n",
       "      <td>114.74</td>\n",
       "      <td>114.800</td>\n",
       "      <td>114.5900</td>\n",
       "      <td>114.77</td>\n",
       "      <td>3518947</td>\n",
       "      <td>415.88</td>\n",
       "      <td>416.7800</td>\n",
       "      <td>411.13</td>\n",
       "      <td>412.30</td>\n",
       "      <td>90086341</td>\n",
       "    </tr>\n",
       "    <tr>\n",
       "      <th>2021-04-23 00:00:00-04:00</th>\n",
       "      <td>114.81</td>\n",
       "      <td>115.086</td>\n",
       "      <td>114.6415</td>\n",
       "      <td>114.75</td>\n",
       "      <td>3506457</td>\n",
       "      <td>412.87</td>\n",
       "      <td>418.2500</td>\n",
       "      <td>412.79</td>\n",
       "      <td>416.72</td>\n",
       "      <td>62184753</td>\n",
       "    </tr>\n",
       "  </tbody>\n",
       "</table>\n",
       "</div>"
      ],
      "text/plain": [
       "                              AGG                                         SPY  \\\n",
       "                             open     high       low   close   volume    open   \n",
       "time                                                                            \n",
       "2021-04-19 00:00:00-04:00  114.00  114.500  114.0000  114.44  4820664  416.26   \n",
       "2021-04-20 00:00:00-04:00  114.42  114.670  114.3900  114.62  3674209  413.91   \n",
       "2021-04-21 00:00:00-04:00  114.60  114.740  114.5300  114.74  5250384  411.51   \n",
       "2021-04-22 00:00:00-04:00  114.74  114.800  114.5900  114.77  3518947  415.88   \n",
       "2021-04-23 00:00:00-04:00  114.81  115.086  114.6415  114.75  3506457  412.87   \n",
       "\n",
       "                                                               \n",
       "                               high     low   close    volume  \n",
       "time                                                           \n",
       "2021-04-19 00:00:00-04:00  416.7400  413.79  415.24  66226327  \n",
       "2021-04-20 00:00:00-04:00  415.0859  410.59  412.22  69715050  \n",
       "2021-04-21 00:00:00-04:00  416.2900  411.36  416.08  54772634  \n",
       "2021-04-22 00:00:00-04:00  416.7800  411.13  412.30  90086341  \n",
       "2021-04-23 00:00:00-04:00  418.2500  412.79  416.72  62184753  "
      ]
     },
     "metadata": {},
     "output_type": "display_data"
    }
   ],
   "source": [
    "# Use the Alpaca get_barset function to make the API call to get the 10 years worth of pricing data\n",
    "# The tickers and timeframe parameters should have been set in Part 1 of this activity \n",
    "# The start and end dates should be updated with the information set above\n",
    "# Remember to add the df property to the end of the call so the response is returned as a DataFrame\n",
    "\n",
    "df_stock_bond = alpaca.get_barset(\n",
    "     tickers,\n",
    "     timeframe,\n",
    "     start = start_date,\n",
    "     end = end_date \n",
    ").df  \n",
    "\n",
    "# Display both the first and last five rows of the DataFrame\n",
    "display(df_stock_bond.head())\n",
    "display(df_stock_bond.tail())"
   ]
  },
  {
   "cell_type": "markdown",
   "metadata": {},
   "source": [
    "#### Step 2: Run a Monte Carlo simulation of 500 samples and 30 years for the 60/40 portfolio, and then plot the results."
   ]
  },
  {
   "cell_type": "code",
   "execution_count": 30,
   "metadata": {},
   "outputs": [
    {
     "data": {
      "text/html": [
       "<div>\n",
       "<style scoped>\n",
       "    .dataframe tbody tr th:only-of-type {\n",
       "        vertical-align: middle;\n",
       "    }\n",
       "\n",
       "    .dataframe tbody tr th {\n",
       "        vertical-align: top;\n",
       "    }\n",
       "\n",
       "    .dataframe thead tr th {\n",
       "        text-align: left;\n",
       "    }\n",
       "\n",
       "    .dataframe thead tr:last-of-type th {\n",
       "        text-align: right;\n",
       "    }\n",
       "</style>\n",
       "<table border=\"1\" class=\"dataframe\">\n",
       "  <thead>\n",
       "    <tr>\n",
       "      <th></th>\n",
       "      <th colspan=\"6\" halign=\"left\">AGG</th>\n",
       "      <th colspan=\"6\" halign=\"left\">SPY</th>\n",
       "    </tr>\n",
       "    <tr>\n",
       "      <th></th>\n",
       "      <th>open</th>\n",
       "      <th>high</th>\n",
       "      <th>low</th>\n",
       "      <th>close</th>\n",
       "      <th>volume</th>\n",
       "      <th>daily_return</th>\n",
       "      <th>open</th>\n",
       "      <th>high</th>\n",
       "      <th>low</th>\n",
       "      <th>close</th>\n",
       "      <th>volume</th>\n",
       "      <th>daily_return</th>\n",
       "    </tr>\n",
       "    <tr>\n",
       "      <th>time</th>\n",
       "      <th></th>\n",
       "      <th></th>\n",
       "      <th></th>\n",
       "      <th></th>\n",
       "      <th></th>\n",
       "      <th></th>\n",
       "      <th></th>\n",
       "      <th></th>\n",
       "      <th></th>\n",
       "      <th></th>\n",
       "      <th></th>\n",
       "      <th></th>\n",
       "    </tr>\n",
       "  </thead>\n",
       "  <tbody>\n",
       "    <tr>\n",
       "      <th>2020-11-30 00:00:00-05:00</th>\n",
       "      <td>118.32</td>\n",
       "      <td>118.45</td>\n",
       "      <td>118.2500</td>\n",
       "      <td>118.400</td>\n",
       "      <td>5231566</td>\n",
       "      <td>NaN</td>\n",
       "      <td>362.83</td>\n",
       "      <td>363.12</td>\n",
       "      <td>359.17</td>\n",
       "      <td>362.0000</td>\n",
       "      <td>67154075</td>\n",
       "      <td>NaN</td>\n",
       "    </tr>\n",
       "    <tr>\n",
       "      <th>2020-12-01 00:00:00-05:00</th>\n",
       "      <td>118.03</td>\n",
       "      <td>118.10</td>\n",
       "      <td>117.7300</td>\n",
       "      <td>117.840</td>\n",
       "      <td>4308362</td>\n",
       "      <td>-0.004730</td>\n",
       "      <td>365.57</td>\n",
       "      <td>367.68</td>\n",
       "      <td>364.93</td>\n",
       "      <td>365.9700</td>\n",
       "      <td>64527332</td>\n",
       "      <td>0.010967</td>\n",
       "    </tr>\n",
       "    <tr>\n",
       "      <th>2020-12-02 00:00:00-05:00</th>\n",
       "      <td>117.81</td>\n",
       "      <td>117.81</td>\n",
       "      <td>117.5400</td>\n",
       "      <td>117.705</td>\n",
       "      <td>5554915</td>\n",
       "      <td>-0.001146</td>\n",
       "      <td>364.82</td>\n",
       "      <td>366.96</td>\n",
       "      <td>364.20</td>\n",
       "      <td>366.7599</td>\n",
       "      <td>37323404</td>\n",
       "      <td>0.002158</td>\n",
       "    </tr>\n",
       "    <tr>\n",
       "      <th>2020-12-03 00:00:00-05:00</th>\n",
       "      <td>117.92</td>\n",
       "      <td>117.98</td>\n",
       "      <td>117.7650</td>\n",
       "      <td>117.910</td>\n",
       "      <td>5210910</td>\n",
       "      <td>0.001742</td>\n",
       "      <td>366.68</td>\n",
       "      <td>368.19</td>\n",
       "      <td>365.50</td>\n",
       "      <td>366.6698</td>\n",
       "      <td>52905586</td>\n",
       "      <td>-0.000246</td>\n",
       "    </tr>\n",
       "    <tr>\n",
       "      <th>2020-12-04 00:00:00-05:00</th>\n",
       "      <td>117.90</td>\n",
       "      <td>117.90</td>\n",
       "      <td>117.5133</td>\n",
       "      <td>117.580</td>\n",
       "      <td>4821820</td>\n",
       "      <td>-0.002799</td>\n",
       "      <td>367.32</td>\n",
       "      <td>369.85</td>\n",
       "      <td>367.22</td>\n",
       "      <td>369.8300</td>\n",
       "      <td>40264568</td>\n",
       "      <td>0.008619</td>\n",
       "    </tr>\n",
       "  </tbody>\n",
       "</table>\n",
       "</div>"
      ],
      "text/plain": [
       "                              AGG                                      \\\n",
       "                             open    high       low    close   volume   \n",
       "time                                                                    \n",
       "2020-11-30 00:00:00-05:00  118.32  118.45  118.2500  118.400  5231566   \n",
       "2020-12-01 00:00:00-05:00  118.03  118.10  117.7300  117.840  4308362   \n",
       "2020-12-02 00:00:00-05:00  117.81  117.81  117.5400  117.705  5554915   \n",
       "2020-12-03 00:00:00-05:00  117.92  117.98  117.7650  117.910  5210910   \n",
       "2020-12-04 00:00:00-05:00  117.90  117.90  117.5133  117.580  4821820   \n",
       "\n",
       "                                           SPY                            \\\n",
       "                          daily_return    open    high     low     close   \n",
       "time                                                                       \n",
       "2020-11-30 00:00:00-05:00          NaN  362.83  363.12  359.17  362.0000   \n",
       "2020-12-01 00:00:00-05:00    -0.004730  365.57  367.68  364.93  365.9700   \n",
       "2020-12-02 00:00:00-05:00    -0.001146  364.82  366.96  364.20  366.7599   \n",
       "2020-12-03 00:00:00-05:00     0.001742  366.68  368.19  365.50  366.6698   \n",
       "2020-12-04 00:00:00-05:00    -0.002799  367.32  369.85  367.22  369.8300   \n",
       "\n",
       "                                                  \n",
       "                             volume daily_return  \n",
       "time                                              \n",
       "2020-11-30 00:00:00-05:00  67154075          NaN  \n",
       "2020-12-01 00:00:00-05:00  64527332     0.010967  \n",
       "2020-12-02 00:00:00-05:00  37323404     0.002158  \n",
       "2020-12-03 00:00:00-05:00  52905586    -0.000246  \n",
       "2020-12-04 00:00:00-05:00  40264568     0.008619  "
      ]
     },
     "execution_count": 30,
     "metadata": {},
     "output_type": "execute_result"
    }
   ],
   "source": [
    "# Configure the Monte Carlo simulation to forecast 30 years cumulative returns\n",
    "# The weights should be split 40% to AGG and 60% to SPY.\n",
    "# Run 500 samples.\n",
    "MC_30_year = MCSimulation(\n",
    "     portfolio_data = df_stock_bond,\n",
    "     weights = [.40,.60],\n",
    "     num_simulation = 500,\n",
    "     num_trading_days = 252*30 )\n",
    "\n",
    "# Review the simulation input data\n",
    "MC_30_year.portfolio_data.head()\n"
   ]
  },
  {
   "cell_type": "code",
   "execution_count": 31,
   "metadata": {},
   "outputs": [
    {
     "name": "stdout",
     "output_type": "stream",
     "text": [
      "Running Monte Carlo simulation number 0.\n",
      "Running Monte Carlo simulation number 10.\n",
      "Running Monte Carlo simulation number 20.\n",
      "Running Monte Carlo simulation number 30.\n",
      "Running Monte Carlo simulation number 40.\n",
      "Running Monte Carlo simulation number 50.\n",
      "Running Monte Carlo simulation number 60.\n",
      "Running Monte Carlo simulation number 70.\n",
      "Running Monte Carlo simulation number 80.\n",
      "Running Monte Carlo simulation number 90.\n",
      "Running Monte Carlo simulation number 100.\n",
      "Running Monte Carlo simulation number 110.\n",
      "Running Monte Carlo simulation number 120.\n",
      "Running Monte Carlo simulation number 130.\n",
      "Running Monte Carlo simulation number 140.\n",
      "Running Monte Carlo simulation number 150.\n",
      "Running Monte Carlo simulation number 160.\n",
      "Running Monte Carlo simulation number 170.\n",
      "Running Monte Carlo simulation number 180.\n",
      "Running Monte Carlo simulation number 190.\n",
      "Running Monte Carlo simulation number 200.\n",
      "Running Monte Carlo simulation number 210.\n",
      "Running Monte Carlo simulation number 220.\n",
      "Running Monte Carlo simulation number 230.\n",
      "Running Monte Carlo simulation number 240.\n",
      "Running Monte Carlo simulation number 250.\n",
      "Running Monte Carlo simulation number 260.\n",
      "Running Monte Carlo simulation number 270.\n",
      "Running Monte Carlo simulation number 280.\n",
      "Running Monte Carlo simulation number 290.\n",
      "Running Monte Carlo simulation number 300.\n",
      "Running Monte Carlo simulation number 310.\n",
      "Running Monte Carlo simulation number 320.\n",
      "Running Monte Carlo simulation number 330.\n",
      "Running Monte Carlo simulation number 340.\n",
      "Running Monte Carlo simulation number 350.\n",
      "Running Monte Carlo simulation number 360.\n",
      "Running Monte Carlo simulation number 370.\n",
      "Running Monte Carlo simulation number 380.\n",
      "Running Monte Carlo simulation number 390.\n",
      "Running Monte Carlo simulation number 400.\n",
      "Running Monte Carlo simulation number 410.\n",
      "Running Monte Carlo simulation number 420.\n",
      "Running Monte Carlo simulation number 430.\n",
      "Running Monte Carlo simulation number 440.\n",
      "Running Monte Carlo simulation number 450.\n",
      "Running Monte Carlo simulation number 460.\n",
      "Running Monte Carlo simulation number 470.\n",
      "Running Monte Carlo simulation number 480.\n",
      "Running Monte Carlo simulation number 490.\n"
     ]
    },
    {
     "data": {
      "text/html": [
       "<div>\n",
       "<style scoped>\n",
       "    .dataframe tbody tr th:only-of-type {\n",
       "        vertical-align: middle;\n",
       "    }\n",
       "\n",
       "    .dataframe tbody tr th {\n",
       "        vertical-align: top;\n",
       "    }\n",
       "\n",
       "    .dataframe thead th {\n",
       "        text-align: right;\n",
       "    }\n",
       "</style>\n",
       "<table border=\"1\" class=\"dataframe\">\n",
       "  <thead>\n",
       "    <tr style=\"text-align: right;\">\n",
       "      <th></th>\n",
       "      <th>0</th>\n",
       "      <th>1</th>\n",
       "      <th>2</th>\n",
       "      <th>3</th>\n",
       "      <th>4</th>\n",
       "      <th>5</th>\n",
       "      <th>6</th>\n",
       "      <th>7</th>\n",
       "      <th>8</th>\n",
       "      <th>9</th>\n",
       "      <th>...</th>\n",
       "      <th>490</th>\n",
       "      <th>491</th>\n",
       "      <th>492</th>\n",
       "      <th>493</th>\n",
       "      <th>494</th>\n",
       "      <th>495</th>\n",
       "      <th>496</th>\n",
       "      <th>497</th>\n",
       "      <th>498</th>\n",
       "      <th>499</th>\n",
       "    </tr>\n",
       "  </thead>\n",
       "  <tbody>\n",
       "    <tr>\n",
       "      <th>0</th>\n",
       "      <td>1.000000</td>\n",
       "      <td>1.000000</td>\n",
       "      <td>1.000000</td>\n",
       "      <td>1.000000</td>\n",
       "      <td>1.000000</td>\n",
       "      <td>1.000000</td>\n",
       "      <td>1.000000</td>\n",
       "      <td>1.000000</td>\n",
       "      <td>1.000000</td>\n",
       "      <td>1.000000</td>\n",
       "      <td>...</td>\n",
       "      <td>1.000000</td>\n",
       "      <td>1.000000</td>\n",
       "      <td>1.000000</td>\n",
       "      <td>1.000000</td>\n",
       "      <td>1.000000</td>\n",
       "      <td>1.000000</td>\n",
       "      <td>1.000000</td>\n",
       "      <td>1.000000</td>\n",
       "      <td>1.000000</td>\n",
       "      <td>1.000000</td>\n",
       "    </tr>\n",
       "    <tr>\n",
       "      <th>1</th>\n",
       "      <td>0.991795</td>\n",
       "      <td>0.999035</td>\n",
       "      <td>1.009075</td>\n",
       "      <td>1.005391</td>\n",
       "      <td>1.003973</td>\n",
       "      <td>0.997724</td>\n",
       "      <td>1.003956</td>\n",
       "      <td>1.006969</td>\n",
       "      <td>0.992534</td>\n",
       "      <td>0.998604</td>\n",
       "      <td>...</td>\n",
       "      <td>1.005968</td>\n",
       "      <td>1.001406</td>\n",
       "      <td>1.003076</td>\n",
       "      <td>0.997968</td>\n",
       "      <td>1.005460</td>\n",
       "      <td>1.002381</td>\n",
       "      <td>0.993241</td>\n",
       "      <td>1.006339</td>\n",
       "      <td>1.006826</td>\n",
       "      <td>1.006415</td>\n",
       "    </tr>\n",
       "    <tr>\n",
       "      <th>2</th>\n",
       "      <td>0.990781</td>\n",
       "      <td>0.994477</td>\n",
       "      <td>0.993830</td>\n",
       "      <td>1.004980</td>\n",
       "      <td>1.001564</td>\n",
       "      <td>1.003789</td>\n",
       "      <td>1.008699</td>\n",
       "      <td>1.011752</td>\n",
       "      <td>0.998211</td>\n",
       "      <td>1.002662</td>\n",
       "      <td>...</td>\n",
       "      <td>1.007811</td>\n",
       "      <td>1.004741</td>\n",
       "      <td>1.001520</td>\n",
       "      <td>1.002208</td>\n",
       "      <td>1.005464</td>\n",
       "      <td>1.006508</td>\n",
       "      <td>0.995454</td>\n",
       "      <td>1.002228</td>\n",
       "      <td>1.006206</td>\n",
       "      <td>1.008695</td>\n",
       "    </tr>\n",
       "    <tr>\n",
       "      <th>3</th>\n",
       "      <td>0.981879</td>\n",
       "      <td>1.000733</td>\n",
       "      <td>0.978717</td>\n",
       "      <td>1.010827</td>\n",
       "      <td>1.008152</td>\n",
       "      <td>1.007912</td>\n",
       "      <td>1.010016</td>\n",
       "      <td>1.013028</td>\n",
       "      <td>1.000584</td>\n",
       "      <td>0.997694</td>\n",
       "      <td>...</td>\n",
       "      <td>1.017464</td>\n",
       "      <td>1.008686</td>\n",
       "      <td>0.996033</td>\n",
       "      <td>1.001989</td>\n",
       "      <td>1.004064</td>\n",
       "      <td>1.009951</td>\n",
       "      <td>0.997392</td>\n",
       "      <td>0.993786</td>\n",
       "      <td>1.005348</td>\n",
       "      <td>1.001902</td>\n",
       "    </tr>\n",
       "    <tr>\n",
       "      <th>4</th>\n",
       "      <td>0.988941</td>\n",
       "      <td>1.004062</td>\n",
       "      <td>0.994826</td>\n",
       "      <td>1.018177</td>\n",
       "      <td>1.016903</td>\n",
       "      <td>1.005019</td>\n",
       "      <td>1.005309</td>\n",
       "      <td>1.006445</td>\n",
       "      <td>1.005412</td>\n",
       "      <td>0.998433</td>\n",
       "      <td>...</td>\n",
       "      <td>1.020432</td>\n",
       "      <td>1.009255</td>\n",
       "      <td>1.000804</td>\n",
       "      <td>1.002509</td>\n",
       "      <td>0.997749</td>\n",
       "      <td>0.999850</td>\n",
       "      <td>0.996558</td>\n",
       "      <td>0.999125</td>\n",
       "      <td>1.004965</td>\n",
       "      <td>1.000299</td>\n",
       "    </tr>\n",
       "    <tr>\n",
       "      <th>...</th>\n",
       "      <td>...</td>\n",
       "      <td>...</td>\n",
       "      <td>...</td>\n",
       "      <td>...</td>\n",
       "      <td>...</td>\n",
       "      <td>...</td>\n",
       "      <td>...</td>\n",
       "      <td>...</td>\n",
       "      <td>...</td>\n",
       "      <td>...</td>\n",
       "      <td>...</td>\n",
       "      <td>...</td>\n",
       "      <td>...</td>\n",
       "      <td>...</td>\n",
       "      <td>...</td>\n",
       "      <td>...</td>\n",
       "      <td>...</td>\n",
       "      <td>...</td>\n",
       "      <td>...</td>\n",
       "      <td>...</td>\n",
       "      <td>...</td>\n",
       "    </tr>\n",
       "    <tr>\n",
       "      <th>7556</th>\n",
       "      <td>135.545251</td>\n",
       "      <td>596.574977</td>\n",
       "      <td>187.043644</td>\n",
       "      <td>198.854891</td>\n",
       "      <td>358.696676</td>\n",
       "      <td>206.598940</td>\n",
       "      <td>118.568700</td>\n",
       "      <td>217.725119</td>\n",
       "      <td>303.347096</td>\n",
       "      <td>397.633900</td>\n",
       "      <td>...</td>\n",
       "      <td>390.591503</td>\n",
       "      <td>411.666782</td>\n",
       "      <td>356.951124</td>\n",
       "      <td>236.348209</td>\n",
       "      <td>170.010890</td>\n",
       "      <td>174.309554</td>\n",
       "      <td>230.513772</td>\n",
       "      <td>307.374813</td>\n",
       "      <td>314.627359</td>\n",
       "      <td>329.878011</td>\n",
       "    </tr>\n",
       "    <tr>\n",
       "      <th>7557</th>\n",
       "      <td>136.202380</td>\n",
       "      <td>593.896700</td>\n",
       "      <td>186.625488</td>\n",
       "      <td>199.299165</td>\n",
       "      <td>357.698448</td>\n",
       "      <td>206.086694</td>\n",
       "      <td>117.991969</td>\n",
       "      <td>218.221282</td>\n",
       "      <td>306.193569</td>\n",
       "      <td>399.345574</td>\n",
       "      <td>...</td>\n",
       "      <td>390.439242</td>\n",
       "      <td>410.461813</td>\n",
       "      <td>357.224425</td>\n",
       "      <td>236.328891</td>\n",
       "      <td>170.775625</td>\n",
       "      <td>173.899144</td>\n",
       "      <td>230.957421</td>\n",
       "      <td>307.455547</td>\n",
       "      <td>315.258241</td>\n",
       "      <td>330.533531</td>\n",
       "    </tr>\n",
       "    <tr>\n",
       "      <th>7558</th>\n",
       "      <td>136.195738</td>\n",
       "      <td>596.099277</td>\n",
       "      <td>185.979184</td>\n",
       "      <td>199.912353</td>\n",
       "      <td>358.725552</td>\n",
       "      <td>206.654866</td>\n",
       "      <td>117.322014</td>\n",
       "      <td>219.376623</td>\n",
       "      <td>304.624793</td>\n",
       "      <td>402.667746</td>\n",
       "      <td>...</td>\n",
       "      <td>386.529834</td>\n",
       "      <td>412.051993</td>\n",
       "      <td>353.904318</td>\n",
       "      <td>233.859125</td>\n",
       "      <td>171.271854</td>\n",
       "      <td>173.572614</td>\n",
       "      <td>232.383811</td>\n",
       "      <td>307.441128</td>\n",
       "      <td>316.403919</td>\n",
       "      <td>330.701330</td>\n",
       "    </tr>\n",
       "    <tr>\n",
       "      <th>7559</th>\n",
       "      <td>137.882541</td>\n",
       "      <td>599.410259</td>\n",
       "      <td>186.448511</td>\n",
       "      <td>202.676518</td>\n",
       "      <td>359.632999</td>\n",
       "      <td>205.618354</td>\n",
       "      <td>117.460931</td>\n",
       "      <td>218.107937</td>\n",
       "      <td>305.687614</td>\n",
       "      <td>404.453834</td>\n",
       "      <td>...</td>\n",
       "      <td>385.701821</td>\n",
       "      <td>412.931937</td>\n",
       "      <td>352.767166</td>\n",
       "      <td>233.079638</td>\n",
       "      <td>169.894181</td>\n",
       "      <td>172.998998</td>\n",
       "      <td>230.228743</td>\n",
       "      <td>306.531715</td>\n",
       "      <td>316.074430</td>\n",
       "      <td>327.686668</td>\n",
       "    </tr>\n",
       "    <tr>\n",
       "      <th>7560</th>\n",
       "      <td>138.330708</td>\n",
       "      <td>600.258182</td>\n",
       "      <td>187.148177</td>\n",
       "      <td>202.596207</td>\n",
       "      <td>359.863532</td>\n",
       "      <td>204.391263</td>\n",
       "      <td>118.281052</td>\n",
       "      <td>218.664566</td>\n",
       "      <td>307.103437</td>\n",
       "      <td>406.549744</td>\n",
       "      <td>...</td>\n",
       "      <td>388.171991</td>\n",
       "      <td>414.464779</td>\n",
       "      <td>353.280299</td>\n",
       "      <td>234.879899</td>\n",
       "      <td>169.525516</td>\n",
       "      <td>173.789209</td>\n",
       "      <td>230.173636</td>\n",
       "      <td>305.104040</td>\n",
       "      <td>314.458732</td>\n",
       "      <td>326.367814</td>\n",
       "    </tr>\n",
       "  </tbody>\n",
       "</table>\n",
       "<p>7561 rows × 500 columns</p>\n",
       "</div>"
      ],
      "text/plain": [
       "             0           1           2           3           4           5    \\\n",
       "0       1.000000    1.000000    1.000000    1.000000    1.000000    1.000000   \n",
       "1       0.991795    0.999035    1.009075    1.005391    1.003973    0.997724   \n",
       "2       0.990781    0.994477    0.993830    1.004980    1.001564    1.003789   \n",
       "3       0.981879    1.000733    0.978717    1.010827    1.008152    1.007912   \n",
       "4       0.988941    1.004062    0.994826    1.018177    1.016903    1.005019   \n",
       "...          ...         ...         ...         ...         ...         ...   \n",
       "7556  135.545251  596.574977  187.043644  198.854891  358.696676  206.598940   \n",
       "7557  136.202380  593.896700  186.625488  199.299165  357.698448  206.086694   \n",
       "7558  136.195738  596.099277  185.979184  199.912353  358.725552  206.654866   \n",
       "7559  137.882541  599.410259  186.448511  202.676518  359.632999  205.618354   \n",
       "7560  138.330708  600.258182  187.148177  202.596207  359.863532  204.391263   \n",
       "\n",
       "             6           7           8           9    ...         490  \\\n",
       "0       1.000000    1.000000    1.000000    1.000000  ...    1.000000   \n",
       "1       1.003956    1.006969    0.992534    0.998604  ...    1.005968   \n",
       "2       1.008699    1.011752    0.998211    1.002662  ...    1.007811   \n",
       "3       1.010016    1.013028    1.000584    0.997694  ...    1.017464   \n",
       "4       1.005309    1.006445    1.005412    0.998433  ...    1.020432   \n",
       "...          ...         ...         ...         ...  ...         ...   \n",
       "7556  118.568700  217.725119  303.347096  397.633900  ...  390.591503   \n",
       "7557  117.991969  218.221282  306.193569  399.345574  ...  390.439242   \n",
       "7558  117.322014  219.376623  304.624793  402.667746  ...  386.529834   \n",
       "7559  117.460931  218.107937  305.687614  404.453834  ...  385.701821   \n",
       "7560  118.281052  218.664566  307.103437  406.549744  ...  388.171991   \n",
       "\n",
       "             491         492         493         494         495         496  \\\n",
       "0       1.000000    1.000000    1.000000    1.000000    1.000000    1.000000   \n",
       "1       1.001406    1.003076    0.997968    1.005460    1.002381    0.993241   \n",
       "2       1.004741    1.001520    1.002208    1.005464    1.006508    0.995454   \n",
       "3       1.008686    0.996033    1.001989    1.004064    1.009951    0.997392   \n",
       "4       1.009255    1.000804    1.002509    0.997749    0.999850    0.996558   \n",
       "...          ...         ...         ...         ...         ...         ...   \n",
       "7556  411.666782  356.951124  236.348209  170.010890  174.309554  230.513772   \n",
       "7557  410.461813  357.224425  236.328891  170.775625  173.899144  230.957421   \n",
       "7558  412.051993  353.904318  233.859125  171.271854  173.572614  232.383811   \n",
       "7559  412.931937  352.767166  233.079638  169.894181  172.998998  230.228743   \n",
       "7560  414.464779  353.280299  234.879899  169.525516  173.789209  230.173636   \n",
       "\n",
       "             497         498         499  \n",
       "0       1.000000    1.000000    1.000000  \n",
       "1       1.006339    1.006826    1.006415  \n",
       "2       1.002228    1.006206    1.008695  \n",
       "3       0.993786    1.005348    1.001902  \n",
       "4       0.999125    1.004965    1.000299  \n",
       "...          ...         ...         ...  \n",
       "7556  307.374813  314.627359  329.878011  \n",
       "7557  307.455547  315.258241  330.533531  \n",
       "7558  307.441128  316.403919  330.701330  \n",
       "7559  306.531715  316.074430  327.686668  \n",
       "7560  305.104040  314.458732  326.367814  \n",
       "\n",
       "[7561 rows x 500 columns]"
      ]
     },
     "execution_count": 31,
     "metadata": {},
     "output_type": "execute_result"
    }
   ],
   "source": [
    "# Run the Monte Carlo simulation to forecast 30 years cumulative returns\n",
    "\n",
    "MC_30_year.calc_cumulative_return()\n"
   ]
  },
  {
   "cell_type": "code",
   "execution_count": 32,
   "metadata": {},
   "outputs": [
    {
     "data": {
      "image/png": "[encoded data removed]",
      "text/plain": [
       "<Figure size 432x288 with 1 Axes>"
      ]
     },
     "metadata": {
      "needs_background": "light"
     },
     "output_type": "display_data"
    }
   ],
   "source": [
    "# Visualize the 30-year Monte Carlo simulation by creating an\n",
    "# overlay line plot\n",
    "\n",
    "MC_sim_line_plot = MC_30_year.plot_simulation()  \n"
   ]
  },
  {
   "cell_type": "markdown",
   "metadata": {},
   "source": [
    "#### Step 3: Plot the probability distribution of the Monte Carlo simulation."
   ]
  },
  {
   "cell_type": "code",
   "execution_count": 33,
   "metadata": {},
   "outputs": [
    {
     "data": {
      "image/png": "[encoded data removed]",
      "text/plain": [
       "<Figure size 432x288 with 1 Axes>"
      ]
     },
     "metadata": {
      "needs_background": "light"
     },
     "output_type": "display_data"
    }
   ],
   "source": [
    "# Visualize the probability distribution of the 30-year Monte Carlo simulation \n",
    "# by plotting a histogram\n",
    "\n",
    "MC_sim_dist_plot = MC_30_year.plot_distribution()  \n"
   ]
  },
  {
   "cell_type": "markdown",
   "metadata": {},
   "source": [
    "#### Step 4: Generate the summary statistics for the Monte Carlo simulation."
   ]
  },
  {
   "cell_type": "code",
   "execution_count": 34,
   "metadata": {},
   "outputs": [
    {
     "name": "stdout",
     "output_type": "stream",
     "text": [
      "count           500.000000\n",
      "mean            287.971586\n",
      "std             126.249138\n",
      "min              60.863014\n",
      "25%             197.535798\n",
      "50%             269.896012\n",
      "75%             353.225378\n",
      "max             936.890276\n",
      "95% CI Lower    109.038590\n",
      "95% CI Upper    588.827746\n",
      "Name: 7560, dtype: float64\n"
     ]
    }
   ],
   "source": [
    "# Generate summary statistics from the 30-year Monte Carlo simulation results\n",
    "# Save the results as a variable\n",
    "\n",
    "MC_30_summary_statistics = MC_30_year.summarize_cumulative_return()  \n",
    "\n",
    "# Review the 30-year Monte Carlo summary statistics\n",
    "print(MC_30_summary_statistics)"
   ]
  },
  {
   "cell_type": "markdown",
   "metadata": {},
   "source": [
    "### Analyze the Retirement Portfolio Forecasts\n",
    "\n",
    "Using the current value of only the stock and bond portion of the member's portfolio and the summary statistics that you generated from the Monte Carlo simulation, answer the following question in your Jupyter notebook:\n",
    "\n",
    "-  What are the lower and upper bounds for the expected value of the portfolio with a 95% confidence interval?\n"
   ]
  },
  {
   "cell_type": "code",
   "execution_count": 35,
   "metadata": {},
   "outputs": [
    {
     "name": "stdout",
     "output_type": "stream",
     "text": [
      "The current balance of the stock/bond portfiolio is $68789.\n"
     ]
    }
   ],
   "source": [
    "# Print the current balance of the stock and bond portion of the members portfolio\n",
    "\n",
    "current_balance = total_stocks_bonds\n",
    "print(f'The current balance of the stock/bond portfiolio is ${current_balance:.0f}.')"
   ]
  },
  {
   "cell_type": "code",
   "execution_count": 36,
   "metadata": {},
   "outputs": [
    {
     "name": "stdout",
     "output_type": "stream",
     "text": [
      "After rebalancing the current stock/bond portfolio to a 60%-stocks/40%-bonds mix, there is 95% probability that in thirty years, the portfolio will be in the range of $7500677 and $40504990.\n"
     ]
    }
   ],
   "source": [
    "# Use the lower and upper `95%` confidence intervals to calculate the range of the possible outcomes for the current stock/bond portfolio\n",
    "ci_lower_thirty_cumulative_return = MC_30_summary_statistics[8] * current_balance\n",
    "ci_upper_thirty_cumulative_return = MC_30_summary_statistics[9] * current_balance\n",
    "\n",
    "# Print the result of your calculations\n",
    "\n",
    "print(f'After rebalancing the current stock/bond portfolio to a 60%-stocks/40%-bonds mix, there is 95% probability that in thirty years, the portfolio will be in the range of ${ci_lower_thirty_cumulative_return:.0f} and ${ci_upper_thirty_cumulative_return:.0f}.')\n"
   ]
  },
  {
   "cell_type": "markdown",
   "metadata": {},
   "source": [
    "### Forecast Cumulative Returns in 10 Years\n",
    "\n",
    "The CTO of the credit union is impressed with your work on these planning tools but wonders if 30 years is a long time to wait until retirement. So, your next task is to adjust the retirement portfolio and run a new Monte Carlo simulation to find out if the changes will allow members to retire earlier.\n",
    "\n",
    "For this new Monte Carlo simulation, do the following: \n",
    "\n",
    "- Forecast the cumulative returns for 10 years from now. Because of the shortened investment horizon (30 years to 10 years), the portfolio needs to invest more heavily in the riskier asset&mdash;that is, stock&mdash;to help accumulate wealth for retirement. \n",
    "\n",
    "- Adjust the weights of the retirement portfolio so that the composition for the Monte Carlo simulation consists of 20% bonds and 80% stocks. \n",
    "\n",
    "- Run the simulation over 500 samples, and use the same data that the API call to Alpaca generated.\n",
    "\n",
    "- Based on the new Monte Carlo simulation, answer the following questions in your Jupyter notebook:\n",
    "\n",
    "    - Using the current value of only the stock and bond portion of the member's portfolio and the summary statistics that you generated from the new Monte Carlo simulation, what are the lower and upper bounds for the expected value of the portfolio (with the new weights) with a 95% confidence interval?\n",
    "\n",
    "    - Will weighting the portfolio more heavily toward stocks allow the credit union members to retire after only 10 years?\n"
   ]
  },
  {
   "cell_type": "code",
   "execution_count": 37,
   "metadata": {},
   "outputs": [
    {
     "data": {
      "text/html": [
       "<div>\n",
       "<style scoped>\n",
       "    .dataframe tbody tr th:only-of-type {\n",
       "        vertical-align: middle;\n",
       "    }\n",
       "\n",
       "    .dataframe tbody tr th {\n",
       "        vertical-align: top;\n",
       "    }\n",
       "\n",
       "    .dataframe thead tr th {\n",
       "        text-align: left;\n",
       "    }\n",
       "\n",
       "    .dataframe thead tr:last-of-type th {\n",
       "        text-align: right;\n",
       "    }\n",
       "</style>\n",
       "<table border=\"1\" class=\"dataframe\">\n",
       "  <thead>\n",
       "    <tr>\n",
       "      <th></th>\n",
       "      <th colspan=\"6\" halign=\"left\">AGG</th>\n",
       "      <th colspan=\"6\" halign=\"left\">SPY</th>\n",
       "    </tr>\n",
       "    <tr>\n",
       "      <th></th>\n",
       "      <th>open</th>\n",
       "      <th>high</th>\n",
       "      <th>low</th>\n",
       "      <th>close</th>\n",
       "      <th>volume</th>\n",
       "      <th>daily_return</th>\n",
       "      <th>open</th>\n",
       "      <th>high</th>\n",
       "      <th>low</th>\n",
       "      <th>close</th>\n",
       "      <th>volume</th>\n",
       "      <th>daily_return</th>\n",
       "    </tr>\n",
       "    <tr>\n",
       "      <th>time</th>\n",
       "      <th></th>\n",
       "      <th></th>\n",
       "      <th></th>\n",
       "      <th></th>\n",
       "      <th></th>\n",
       "      <th></th>\n",
       "      <th></th>\n",
       "      <th></th>\n",
       "      <th></th>\n",
       "      <th></th>\n",
       "      <th></th>\n",
       "      <th></th>\n",
       "    </tr>\n",
       "  </thead>\n",
       "  <tbody>\n",
       "    <tr>\n",
       "      <th>2020-11-30 00:00:00-05:00</th>\n",
       "      <td>118.32</td>\n",
       "      <td>118.45</td>\n",
       "      <td>118.2500</td>\n",
       "      <td>118.400</td>\n",
       "      <td>5231566</td>\n",
       "      <td>NaN</td>\n",
       "      <td>362.83</td>\n",
       "      <td>363.12</td>\n",
       "      <td>359.17</td>\n",
       "      <td>362.0000</td>\n",
       "      <td>67154075</td>\n",
       "      <td>NaN</td>\n",
       "    </tr>\n",
       "    <tr>\n",
       "      <th>2020-12-01 00:00:00-05:00</th>\n",
       "      <td>118.03</td>\n",
       "      <td>118.10</td>\n",
       "      <td>117.7300</td>\n",
       "      <td>117.840</td>\n",
       "      <td>4308362</td>\n",
       "      <td>-0.004730</td>\n",
       "      <td>365.57</td>\n",
       "      <td>367.68</td>\n",
       "      <td>364.93</td>\n",
       "      <td>365.9700</td>\n",
       "      <td>64527332</td>\n",
       "      <td>0.010967</td>\n",
       "    </tr>\n",
       "    <tr>\n",
       "      <th>2020-12-02 00:00:00-05:00</th>\n",
       "      <td>117.81</td>\n",
       "      <td>117.81</td>\n",
       "      <td>117.5400</td>\n",
       "      <td>117.705</td>\n",
       "      <td>5554915</td>\n",
       "      <td>-0.001146</td>\n",
       "      <td>364.82</td>\n",
       "      <td>366.96</td>\n",
       "      <td>364.20</td>\n",
       "      <td>366.7599</td>\n",
       "      <td>37323404</td>\n",
       "      <td>0.002158</td>\n",
       "    </tr>\n",
       "    <tr>\n",
       "      <th>2020-12-03 00:00:00-05:00</th>\n",
       "      <td>117.92</td>\n",
       "      <td>117.98</td>\n",
       "      <td>117.7650</td>\n",
       "      <td>117.910</td>\n",
       "      <td>5210910</td>\n",
       "      <td>0.001742</td>\n",
       "      <td>366.68</td>\n",
       "      <td>368.19</td>\n",
       "      <td>365.50</td>\n",
       "      <td>366.6698</td>\n",
       "      <td>52905586</td>\n",
       "      <td>-0.000246</td>\n",
       "    </tr>\n",
       "    <tr>\n",
       "      <th>2020-12-04 00:00:00-05:00</th>\n",
       "      <td>117.90</td>\n",
       "      <td>117.90</td>\n",
       "      <td>117.5133</td>\n",
       "      <td>117.580</td>\n",
       "      <td>4821820</td>\n",
       "      <td>-0.002799</td>\n",
       "      <td>367.32</td>\n",
       "      <td>369.85</td>\n",
       "      <td>367.22</td>\n",
       "      <td>369.8300</td>\n",
       "      <td>40264568</td>\n",
       "      <td>0.008619</td>\n",
       "    </tr>\n",
       "  </tbody>\n",
       "</table>\n",
       "</div>"
      ],
      "text/plain": [
       "                              AGG                                      \\\n",
       "                             open    high       low    close   volume   \n",
       "time                                                                    \n",
       "2020-11-30 00:00:00-05:00  118.32  118.45  118.2500  118.400  5231566   \n",
       "2020-12-01 00:00:00-05:00  118.03  118.10  117.7300  117.840  4308362   \n",
       "2020-12-02 00:00:00-05:00  117.81  117.81  117.5400  117.705  5554915   \n",
       "2020-12-03 00:00:00-05:00  117.92  117.98  117.7650  117.910  5210910   \n",
       "2020-12-04 00:00:00-05:00  117.90  117.90  117.5133  117.580  4821820   \n",
       "\n",
       "                                           SPY                            \\\n",
       "                          daily_return    open    high     low     close   \n",
       "time                                                                       \n",
       "2020-11-30 00:00:00-05:00          NaN  362.83  363.12  359.17  362.0000   \n",
       "2020-12-01 00:00:00-05:00    -0.004730  365.57  367.68  364.93  365.9700   \n",
       "2020-12-02 00:00:00-05:00    -0.001146  364.82  366.96  364.20  366.7599   \n",
       "2020-12-03 00:00:00-05:00     0.001742  366.68  368.19  365.50  366.6698   \n",
       "2020-12-04 00:00:00-05:00    -0.002799  367.32  369.85  367.22  369.8300   \n",
       "\n",
       "                                                  \n",
       "                             volume daily_return  \n",
       "time                                              \n",
       "2020-11-30 00:00:00-05:00  67154075          NaN  \n",
       "2020-12-01 00:00:00-05:00  64527332     0.010967  \n",
       "2020-12-02 00:00:00-05:00  37323404     0.002158  \n",
       "2020-12-03 00:00:00-05:00  52905586    -0.000246  \n",
       "2020-12-04 00:00:00-05:00  40264568     0.008619  "
      ]
     },
     "execution_count": 37,
     "metadata": {},
     "output_type": "execute_result"
    }
   ],
   "source": [
    "# Configure a Monte Carlo simulation to forecast 10 years cumulative returns\n",
    "# The weights should be split 20% to AGG and 80% to SPY.\n",
    "# Run 500 samples.\n",
    "\n",
    "MC_10_year = MCSimulation(\n",
    "     portfolio_data = df_stock_bond,\n",
    "     weights = [.20,.80],\n",
    "     num_simulation = 500,\n",
    "     num_trading_days = 252*10 )\n",
    "\n",
    "# Review the simulation input data\n",
    "MC_10_year.portfolio_data.head()\n"
   ]
  },
  {
   "cell_type": "code",
   "execution_count": 38,
   "metadata": {},
   "outputs": [
    {
     "name": "stdout",
     "output_type": "stream",
     "text": [
      "Running Monte Carlo simulation number 0.\n",
      "Running Monte Carlo simulation number 10.\n",
      "Running Monte Carlo simulation number 20.\n",
      "Running Monte Carlo simulation number 30.\n",
      "Running Monte Carlo simulation number 40.\n",
      "Running Monte Carlo simulation number 50.\n",
      "Running Monte Carlo simulation number 60.\n",
      "Running Monte Carlo simulation number 70.\n",
      "Running Monte Carlo simulation number 80.\n",
      "Running Monte Carlo simulation number 90.\n",
      "Running Monte Carlo simulation number 100.\n",
      "Running Monte Carlo simulation number 110.\n",
      "Running Monte Carlo simulation number 120.\n",
      "Running Monte Carlo simulation number 130.\n",
      "Running Monte Carlo simulation number 140.\n",
      "Running Monte Carlo simulation number 150.\n",
      "Running Monte Carlo simulation number 160.\n",
      "Running Monte Carlo simulation number 170.\n",
      "Running Monte Carlo simulation number 180.\n",
      "Running Monte Carlo simulation number 190.\n",
      "Running Monte Carlo simulation number 200.\n",
      "Running Monte Carlo simulation number 210.\n",
      "Running Monte Carlo simulation number 220.\n",
      "Running Monte Carlo simulation number 230.\n",
      "Running Monte Carlo simulation number 240.\n",
      "Running Monte Carlo simulation number 250.\n",
      "Running Monte Carlo simulation number 260.\n",
      "Running Monte Carlo simulation number 270.\n",
      "Running Monte Carlo simulation number 280.\n",
      "Running Monte Carlo simulation number 290.\n",
      "Running Monte Carlo simulation number 300.\n",
      "Running Monte Carlo simulation number 310.\n",
      "Running Monte Carlo simulation number 320.\n",
      "Running Monte Carlo simulation number 330.\n",
      "Running Monte Carlo simulation number 340.\n",
      "Running Monte Carlo simulation number 350.\n",
      "Running Monte Carlo simulation number 360.\n",
      "Running Monte Carlo simulation number 370.\n",
      "Running Monte Carlo simulation number 380.\n",
      "Running Monte Carlo simulation number 390.\n",
      "Running Monte Carlo simulation number 400.\n",
      "Running Monte Carlo simulation number 410.\n",
      "Running Monte Carlo simulation number 420.\n",
      "Running Monte Carlo simulation number 430.\n",
      "Running Monte Carlo simulation number 440.\n",
      "Running Monte Carlo simulation number 450.\n",
      "Running Monte Carlo simulation number 460.\n",
      "Running Monte Carlo simulation number 470.\n",
      "Running Monte Carlo simulation number 480.\n",
      "Running Monte Carlo simulation number 490.\n"
     ]
    },
    {
     "data": {
      "text/html": [
       "<div>\n",
       "<style scoped>\n",
       "    .dataframe tbody tr th:only-of-type {\n",
       "        vertical-align: middle;\n",
       "    }\n",
       "\n",
       "    .dataframe tbody tr th {\n",
       "        vertical-align: top;\n",
       "    }\n",
       "\n",
       "    .dataframe thead th {\n",
       "        text-align: right;\n",
       "    }\n",
       "</style>\n",
       "<table border=\"1\" class=\"dataframe\">\n",
       "  <thead>\n",
       "    <tr style=\"text-align: right;\">\n",
       "      <th></th>\n",
       "      <th>0</th>\n",
       "      <th>1</th>\n",
       "      <th>2</th>\n",
       "      <th>3</th>\n",
       "      <th>4</th>\n",
       "      <th>5</th>\n",
       "      <th>6</th>\n",
       "      <th>7</th>\n",
       "      <th>8</th>\n",
       "      <th>9</th>\n",
       "      <th>...</th>\n",
       "      <th>490</th>\n",
       "      <th>491</th>\n",
       "      <th>492</th>\n",
       "      <th>493</th>\n",
       "      <th>494</th>\n",
       "      <th>495</th>\n",
       "      <th>496</th>\n",
       "      <th>497</th>\n",
       "      <th>498</th>\n",
       "      <th>499</th>\n",
       "    </tr>\n",
       "  </thead>\n",
       "  <tbody>\n",
       "    <tr>\n",
       "      <th>0</th>\n",
       "      <td>1.000000</td>\n",
       "      <td>1.000000</td>\n",
       "      <td>1.000000</td>\n",
       "      <td>1.000000</td>\n",
       "      <td>1.000000</td>\n",
       "      <td>1.000000</td>\n",
       "      <td>1.000000</td>\n",
       "      <td>1.000000</td>\n",
       "      <td>1.000000</td>\n",
       "      <td>1.000000</td>\n",
       "      <td>...</td>\n",
       "      <td>1.000000</td>\n",
       "      <td>1.000000</td>\n",
       "      <td>1.000000</td>\n",
       "      <td>1.000000</td>\n",
       "      <td>1.000000</td>\n",
       "      <td>1.000000</td>\n",
       "      <td>1.000000</td>\n",
       "      <td>1.000000</td>\n",
       "      <td>1.000000</td>\n",
       "      <td>1.000000</td>\n",
       "    </tr>\n",
       "    <tr>\n",
       "      <th>1</th>\n",
       "      <td>1.007861</td>\n",
       "      <td>0.996708</td>\n",
       "      <td>1.011460</td>\n",
       "      <td>0.993094</td>\n",
       "      <td>1.000664</td>\n",
       "      <td>1.004425</td>\n",
       "      <td>0.999669</td>\n",
       "      <td>0.998808</td>\n",
       "      <td>0.998923</td>\n",
       "      <td>1.007132</td>\n",
       "      <td>...</td>\n",
       "      <td>1.000518</td>\n",
       "      <td>0.992427</td>\n",
       "      <td>1.005947</td>\n",
       "      <td>1.000510</td>\n",
       "      <td>1.001261</td>\n",
       "      <td>1.005454</td>\n",
       "      <td>0.995822</td>\n",
       "      <td>0.994307</td>\n",
       "      <td>1.004702</td>\n",
       "      <td>1.006288</td>\n",
       "    </tr>\n",
       "    <tr>\n",
       "      <th>2</th>\n",
       "      <td>1.016001</td>\n",
       "      <td>1.005174</td>\n",
       "      <td>1.010963</td>\n",
       "      <td>0.999142</td>\n",
       "      <td>0.995071</td>\n",
       "      <td>1.006157</td>\n",
       "      <td>0.990346</td>\n",
       "      <td>1.003978</td>\n",
       "      <td>0.993051</td>\n",
       "      <td>1.012933</td>\n",
       "      <td>...</td>\n",
       "      <td>1.006379</td>\n",
       "      <td>0.984295</td>\n",
       "      <td>0.997398</td>\n",
       "      <td>1.017022</td>\n",
       "      <td>1.002646</td>\n",
       "      <td>1.011952</td>\n",
       "      <td>1.003786</td>\n",
       "      <td>0.999292</td>\n",
       "      <td>1.000641</td>\n",
       "      <td>1.009602</td>\n",
       "    </tr>\n",
       "    <tr>\n",
       "      <th>3</th>\n",
       "      <td>1.012666</td>\n",
       "      <td>1.013812</td>\n",
       "      <td>1.007439</td>\n",
       "      <td>1.009030</td>\n",
       "      <td>0.989263</td>\n",
       "      <td>1.009492</td>\n",
       "      <td>0.992172</td>\n",
       "      <td>1.009008</td>\n",
       "      <td>1.005232</td>\n",
       "      <td>1.008776</td>\n",
       "      <td>...</td>\n",
       "      <td>1.002741</td>\n",
       "      <td>0.977662</td>\n",
       "      <td>0.995459</td>\n",
       "      <td>1.027707</td>\n",
       "      <td>1.000640</td>\n",
       "      <td>1.020234</td>\n",
       "      <td>1.014855</td>\n",
       "      <td>1.001132</td>\n",
       "      <td>1.004479</td>\n",
       "      <td>1.006316</td>\n",
       "    </tr>\n",
       "    <tr>\n",
       "      <th>4</th>\n",
       "      <td>1.001046</td>\n",
       "      <td>1.015242</td>\n",
       "      <td>1.016686</td>\n",
       "      <td>1.012934</td>\n",
       "      <td>0.983281</td>\n",
       "      <td>0.999287</td>\n",
       "      <td>0.978374</td>\n",
       "      <td>1.026090</td>\n",
       "      <td>1.006809</td>\n",
       "      <td>1.001372</td>\n",
       "      <td>...</td>\n",
       "      <td>1.007744</td>\n",
       "      <td>0.981021</td>\n",
       "      <td>0.991696</td>\n",
       "      <td>1.034170</td>\n",
       "      <td>1.003376</td>\n",
       "      <td>1.020544</td>\n",
       "      <td>1.005475</td>\n",
       "      <td>1.010071</td>\n",
       "      <td>0.997383</td>\n",
       "      <td>0.998891</td>\n",
       "    </tr>\n",
       "    <tr>\n",
       "      <th>...</th>\n",
       "      <td>...</td>\n",
       "      <td>...</td>\n",
       "      <td>...</td>\n",
       "      <td>...</td>\n",
       "      <td>...</td>\n",
       "      <td>...</td>\n",
       "      <td>...</td>\n",
       "      <td>...</td>\n",
       "      <td>...</td>\n",
       "      <td>...</td>\n",
       "      <td>...</td>\n",
       "      <td>...</td>\n",
       "      <td>...</td>\n",
       "      <td>...</td>\n",
       "      <td>...</td>\n",
       "      <td>...</td>\n",
       "      <td>...</td>\n",
       "      <td>...</td>\n",
       "      <td>...</td>\n",
       "      <td>...</td>\n",
       "      <td>...</td>\n",
       "    </tr>\n",
       "    <tr>\n",
       "      <th>2516</th>\n",
       "      <td>17.748847</td>\n",
       "      <td>19.001128</td>\n",
       "      <td>22.146887</td>\n",
       "      <td>12.944963</td>\n",
       "      <td>16.828883</td>\n",
       "      <td>11.199634</td>\n",
       "      <td>13.685731</td>\n",
       "      <td>9.634666</td>\n",
       "      <td>16.027423</td>\n",
       "      <td>14.004521</td>\n",
       "      <td>...</td>\n",
       "      <td>17.490160</td>\n",
       "      <td>10.245156</td>\n",
       "      <td>15.183485</td>\n",
       "      <td>13.115975</td>\n",
       "      <td>13.768163</td>\n",
       "      <td>17.216171</td>\n",
       "      <td>18.573246</td>\n",
       "      <td>18.187448</td>\n",
       "      <td>14.563526</td>\n",
       "      <td>19.231878</td>\n",
       "    </tr>\n",
       "    <tr>\n",
       "      <th>2517</th>\n",
       "      <td>17.542598</td>\n",
       "      <td>19.015906</td>\n",
       "      <td>22.157666</td>\n",
       "      <td>13.065736</td>\n",
       "      <td>16.600965</td>\n",
       "      <td>11.157178</td>\n",
       "      <td>13.613088</td>\n",
       "      <td>9.671623</td>\n",
       "      <td>16.042893</td>\n",
       "      <td>13.897364</td>\n",
       "      <td>...</td>\n",
       "      <td>17.447822</td>\n",
       "      <td>10.242740</td>\n",
       "      <td>15.078664</td>\n",
       "      <td>13.098224</td>\n",
       "      <td>13.790345</td>\n",
       "      <td>17.043406</td>\n",
       "      <td>18.624252</td>\n",
       "      <td>18.229448</td>\n",
       "      <td>14.667812</td>\n",
       "      <td>19.079983</td>\n",
       "    </tr>\n",
       "    <tr>\n",
       "      <th>2518</th>\n",
       "      <td>17.467975</td>\n",
       "      <td>19.071844</td>\n",
       "      <td>22.077679</td>\n",
       "      <td>12.990584</td>\n",
       "      <td>16.548160</td>\n",
       "      <td>11.190543</td>\n",
       "      <td>13.724456</td>\n",
       "      <td>9.677958</td>\n",
       "      <td>16.131822</td>\n",
       "      <td>13.936517</td>\n",
       "      <td>...</td>\n",
       "      <td>17.455471</td>\n",
       "      <td>10.176157</td>\n",
       "      <td>14.870212</td>\n",
       "      <td>13.043739</td>\n",
       "      <td>13.835244</td>\n",
       "      <td>17.325014</td>\n",
       "      <td>18.971455</td>\n",
       "      <td>18.421471</td>\n",
       "      <td>14.739200</td>\n",
       "      <td>19.265370</td>\n",
       "    </tr>\n",
       "    <tr>\n",
       "      <th>2519</th>\n",
       "      <td>17.405763</td>\n",
       "      <td>18.954036</td>\n",
       "      <td>21.971281</td>\n",
       "      <td>13.144350</td>\n",
       "      <td>16.722323</td>\n",
       "      <td>11.104681</td>\n",
       "      <td>13.742056</td>\n",
       "      <td>9.684122</td>\n",
       "      <td>16.147724</td>\n",
       "      <td>14.030076</td>\n",
       "      <td>...</td>\n",
       "      <td>17.478569</td>\n",
       "      <td>10.185875</td>\n",
       "      <td>14.759787</td>\n",
       "      <td>13.232006</td>\n",
       "      <td>13.882812</td>\n",
       "      <td>17.269807</td>\n",
       "      <td>19.179501</td>\n",
       "      <td>18.232668</td>\n",
       "      <td>14.718910</td>\n",
       "      <td>19.402304</td>\n",
       "    </tr>\n",
       "    <tr>\n",
       "      <th>2520</th>\n",
       "      <td>17.303776</td>\n",
       "      <td>19.015432</td>\n",
       "      <td>22.148721</td>\n",
       "      <td>13.029157</td>\n",
       "      <td>16.880037</td>\n",
       "      <td>11.173590</td>\n",
       "      <td>13.935759</td>\n",
       "      <td>9.800261</td>\n",
       "      <td>16.295619</td>\n",
       "      <td>14.053356</td>\n",
       "      <td>...</td>\n",
       "      <td>17.445324</td>\n",
       "      <td>10.372165</td>\n",
       "      <td>14.834059</td>\n",
       "      <td>13.177329</td>\n",
       "      <td>13.817695</td>\n",
       "      <td>17.186314</td>\n",
       "      <td>18.966129</td>\n",
       "      <td>18.131070</td>\n",
       "      <td>14.666599</td>\n",
       "      <td>19.303165</td>\n",
       "    </tr>\n",
       "  </tbody>\n",
       "</table>\n",
       "<p>2521 rows × 500 columns</p>\n",
       "</div>"
      ],
      "text/plain": [
       "            0          1          2          3          4          5    \\\n",
       "0      1.000000   1.000000   1.000000   1.000000   1.000000   1.000000   \n",
       "1      1.007861   0.996708   1.011460   0.993094   1.000664   1.004425   \n",
       "2      1.016001   1.005174   1.010963   0.999142   0.995071   1.006157   \n",
       "3      1.012666   1.013812   1.007439   1.009030   0.989263   1.009492   \n",
       "4      1.001046   1.015242   1.016686   1.012934   0.983281   0.999287   \n",
       "...         ...        ...        ...        ...        ...        ...   \n",
       "2516  17.748847  19.001128  22.146887  12.944963  16.828883  11.199634   \n",
       "2517  17.542598  19.015906  22.157666  13.065736  16.600965  11.157178   \n",
       "2518  17.467975  19.071844  22.077679  12.990584  16.548160  11.190543   \n",
       "2519  17.405763  18.954036  21.971281  13.144350  16.722323  11.104681   \n",
       "2520  17.303776  19.015432  22.148721  13.029157  16.880037  11.173590   \n",
       "\n",
       "            6         7          8          9    ...        490        491  \\\n",
       "0      1.000000  1.000000   1.000000   1.000000  ...   1.000000   1.000000   \n",
       "1      0.999669  0.998808   0.998923   1.007132  ...   1.000518   0.992427   \n",
       "2      0.990346  1.003978   0.993051   1.012933  ...   1.006379   0.984295   \n",
       "3      0.992172  1.009008   1.005232   1.008776  ...   1.002741   0.977662   \n",
       "4      0.978374  1.026090   1.006809   1.001372  ...   1.007744   0.981021   \n",
       "...         ...       ...        ...        ...  ...        ...        ...   \n",
       "2516  13.685731  9.634666  16.027423  14.004521  ...  17.490160  10.245156   \n",
       "2517  13.613088  9.671623  16.042893  13.897364  ...  17.447822  10.242740   \n",
       "2518  13.724456  9.677958  16.131822  13.936517  ...  17.455471  10.176157   \n",
       "2519  13.742056  9.684122  16.147724  14.030076  ...  17.478569  10.185875   \n",
       "2520  13.935759  9.800261  16.295619  14.053356  ...  17.445324  10.372165   \n",
       "\n",
       "            492        493        494        495        496        497  \\\n",
       "0      1.000000   1.000000   1.000000   1.000000   1.000000   1.000000   \n",
       "1      1.005947   1.000510   1.001261   1.005454   0.995822   0.994307   \n",
       "2      0.997398   1.017022   1.002646   1.011952   1.003786   0.999292   \n",
       "3      0.995459   1.027707   1.000640   1.020234   1.014855   1.001132   \n",
       "4      0.991696   1.034170   1.003376   1.020544   1.005475   1.010071   \n",
       "...         ...        ...        ...        ...        ...        ...   \n",
       "2516  15.183485  13.115975  13.768163  17.216171  18.573246  18.187448   \n",
       "2517  15.078664  13.098224  13.790345  17.043406  18.624252  18.229448   \n",
       "2518  14.870212  13.043739  13.835244  17.325014  18.971455  18.421471   \n",
       "2519  14.759787  13.232006  13.882812  17.269807  19.179501  18.232668   \n",
       "2520  14.834059  13.177329  13.817695  17.186314  18.966129  18.131070   \n",
       "\n",
       "            498        499  \n",
       "0      1.000000   1.000000  \n",
       "1      1.004702   1.006288  \n",
       "2      1.000641   1.009602  \n",
       "3      1.004479   1.006316  \n",
       "4      0.997383   0.998891  \n",
       "...         ...        ...  \n",
       "2516  14.563526  19.231878  \n",
       "2517  14.667812  19.079983  \n",
       "2518  14.739200  19.265370  \n",
       "2519  14.718910  19.402304  \n",
       "2520  14.666599  19.303165  \n",
       "\n",
       "[2521 rows x 500 columns]"
      ]
     },
     "execution_count": 38,
     "metadata": {},
     "output_type": "execute_result"
    }
   ],
   "source": [
    "# Run the Monte Carlo simulation to forecast 10 years cumulative returns\n",
    "\n",
    "MC_10_year.calc_cumulative_return()"
   ]
  },
  {
   "cell_type": "code",
   "execution_count": 39,
   "metadata": {},
   "outputs": [
    {
     "data": {
      "image/png": "[encoded data removed]",
      "text/plain": [
       "<Figure size 432x288 with 1 Axes>"
      ]
     },
     "metadata": {
      "needs_background": "light"
     },
     "output_type": "display_data"
    }
   ],
   "source": [
    "# Visualize the 10-year Monte Carlo simulation by creating an\n",
    "# overlay line plot\n",
    "\n",
    "MC_sim_line_plot = MC_10_year.plot_simulation()  \n"
   ]
  },
  {
   "cell_type": "code",
   "execution_count": 40,
   "metadata": {},
   "outputs": [
    {
     "data": {
      "image/png": "[encoded data removed]",
      "text/plain": [
       "<Figure size 432x288 with 1 Axes>"
      ]
     },
     "metadata": {
      "needs_background": "light"
     },
     "output_type": "display_data"
    }
   ],
   "source": [
    "# Visualize the probability distribution of the 10-year Monte Carlo simulation \n",
    "# by plotting a histogram\n",
    "\n",
    "MC_sim_dist_plot = MC_10_year.plot_distribution()  "
   ]
  },
  {
   "cell_type": "code",
   "execution_count": 41,
   "metadata": {},
   "outputs": [
    {
     "name": "stdout",
     "output_type": "stream",
     "text": [
      "count           500.000000\n",
      "mean             16.125944\n",
      "std               5.865999\n",
      "min               4.529859\n",
      "25%              12.026227\n",
      "50%              15.231797\n",
      "75%              19.070735\n",
      "max              53.110230\n",
      "95% CI Lower      8.084719\n",
      "95% CI Upper     29.477827\n",
      "Name: 2520, dtype: float64\n"
     ]
    }
   ],
   "source": [
    "# Generate summary statistics from the 10-year Monte Carlo simulation results\n",
    "# Save the results as a variable\n",
    "MC_10_summary_statistics = MC_10_year.summarize_cumulative_return()  \n",
    "\n",
    "# Review the 10-year Monte Carlo summary statistics\n",
    "print(MC_10_summary_statistics)"
   ]
  },
  {
   "cell_type": "markdown",
   "metadata": {},
   "source": [
    "### Answer the following questions:"
   ]
  },
  {
   "cell_type": "markdown",
   "metadata": {},
   "source": [
    "#### Question: Using the current value of only the stock and bond portion of the member's portfolio and the summary statistics that you generated from the new Monte Carlo simulation, what are the lower and upper bounds for the expected value of the portfolio (with the new weights) with a 95% confidence interval?"
   ]
  },
  {
   "cell_type": "code",
   "execution_count": 42,
   "metadata": {},
   "outputs": [
    {
     "name": "stdout",
     "output_type": "stream",
     "text": [
      "The current balance of the stock/bond portfiolio is $68789.\n"
     ]
    }
   ],
   "source": [
    "# Print the current balance of the stock and bond portion of the members portfolio\n",
    "\n",
    "print(f'The current balance of the stock/bond portfiolio is ${current_balance:.0f}.')"
   ]
  },
  {
   "cell_type": "code",
   "execution_count": 43,
   "metadata": {},
   "outputs": [
    {
     "name": "stdout",
     "output_type": "stream",
     "text": [
      "After rebalancing the current stock/bond portfolio to a 80%-stocks/20%-bonds mix, there is 95% probability that in ten years, the portfolio will be in the range of $556141 and $2027756.\n"
     ]
    }
   ],
   "source": [
    "# Use the lower and upper `95%` confidence intervals to calculate the range of the possible outcomes for the current stock/bond portfolio\n",
    "ci_lower_ten_cumulative_return = MC_10_summary_statistics[8] * current_balance\n",
    "ci_upper_ten_cumulative_return = MC_10_summary_statistics[9] * current_balance\n",
    "\n",
    "# Print the result of your calculations\n",
    "\n",
    "print(f'After rebalancing the current stock/bond portfolio to a 80%-stocks/20%-bonds mix, there is 95% probability that in ten years, the portfolio will be in the range of ${ci_lower_ten_cumulative_return:.0f} and ${ci_upper_ten_cumulative_return:.0f}.')"
   ]
  },
  {
   "cell_type": "markdown",
   "metadata": {},
   "source": [
    "#### Question: Will weighting the portfolio more heavily to stocks allow the credit union members to retire after only 10 years?"
   ]
  },
  {
   "cell_type": "code",
   "execution_count": 47,
   "metadata": {},
   "outputs": [
    {
     "name": "stdout",
     "output_type": "stream",
     "text": [
      "With 95% CI, the 80-20 portfolio value in ten years will be equivalent to 3.9 and 14.1 years equivalent of the current annual income level.  The yield of the portfolio at 5.0% will be in the range of 0.19 and 0.70 months of current income level.\n"
     ]
    }
   ],
   "source": [
    "# Calculate the number of years of income the portfolio's balance will cover.\n",
    "number_of_annual_income_lower = ci_lower_ten_cumulative_return / (monthly_income * 12)\n",
    "number_of_annual_income_upper = ci_upper_ten_cumulative_return / (monthly_income * 12)\n",
    "\n",
    "# Calculate how the monthly yield from the portfolio compares with current income level.\n",
    "yields = 0.05\n",
    "yield_equivalent_of_monthly_income_lower = ci_lower_ten_cumulative_return * yields /12 /monthly_income\n",
    "yield_equivalent_of_monthly_income_upper = ci_upper_ten_cumulative_return * yields /12 /monthly_income\n",
    "\n",
    "# Print the results:\n",
    "print(f'With 95% CI, the 80-20 portfolio value in ten years will be equivalent to {number_of_annual_income_lower:.1f} and {number_of_annual_income_upper:.1f} years equivalent of the current annual income level.  The yield of the portfolio at {yields*100}% will be in the range of {yield_equivalent_of_monthly_income_lower:.2f} and {yield_equivalent_of_monthly_income_upper:.2f} months of current income level.')\n"
   ]
  },
  {
   "cell_type": "markdown",
   "metadata": {},
   "source": [
    "**Answer**\n",
    "\n",
    "The answer depends on the member's age. In most case, I'm afraid the member will not be able to retire in 10 years.  The portfolio will only generate 19%-70% of the currently income.  For estimate purpose, if taking the equivalent of current income level out of the portfolio principal every month with no yields, the balance of the portfolio can only last 3.6-15.3 years. The member has to keep working for longer."
   ]
  },
  {
   "cell_type": "code",
   "execution_count": null,
   "metadata": {},
   "outputs": [],
   "source": []
  }
 ],
 "metadata": {
  "kernelspec": {
   "display_name": "dev",
   "language": "python",
   "name": "dev"
  },
  "language_info": {
   "codemirror_mode": {
    "name": "ipython",
    "version": 3
   },
   "file_extension": ".py",
   "mimetype": "text/x-python",
   "name": "python",
   "nbconvert_exporter": "python",
   "pygments_lexer": "ipython3",
   "version": "3.7.9"
  }
 },
 "nbformat": 4,
 "nbformat_minor": 4
}
